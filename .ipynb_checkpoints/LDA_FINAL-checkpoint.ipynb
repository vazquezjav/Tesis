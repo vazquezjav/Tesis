{
 "cells": [
  {
   "cell_type": "code",
   "execution_count": 16,
   "id": "a71fccb0",
   "metadata": {},
   "outputs": [
    {
     "name": "stderr",
     "output_type": "stream",
     "text": [
      "C:\\Users\\vazqu\\anaconda3\\envs\\tesis\\lib\\site-packages\\ipykernel\\ipkernel.py:283: DeprecationWarning: `should_run_async` will not call `transform_cell` automatically in the future. Please pass the result to `transformed_cell` argument and any exception that happen during thetransform in `preprocessing_exc_tuple` in IPython 7.17 and above.\n",
      "  and should_run_async(code)\n"
     ]
    }
   ],
   "source": [
    "import nltk\n",
    "import pandas as pd\n",
    "import string\n",
    "from nltk.tokenize import word_tokenize, sent_tokenize\n",
    "from nltk.corpus import stopwords\n",
    "import unidecode\n",
    "import re"
   ]
  },
  {
   "cell_type": "code",
   "execution_count": 230,
   "id": "3bf3c19b",
   "metadata": {},
   "outputs": [
    {
     "name": "stderr",
     "output_type": "stream",
     "text": [
      "C:\\Users\\vazqu\\anaconda3\\envs\\tesis\\lib\\site-packages\\ipykernel\\ipkernel.py:283: DeprecationWarning: `should_run_async` will not call `transform_cell` automatically in the future. Please pass the result to `transformed_cell` argument and any exception that happen during thetransform in `preprocessing_exc_tuple` in IPython 7.17 and above.\n",
      "  and should_run_async(code)\n"
     ]
    }
   ],
   "source": [
    "leman=[['celular', 'precio', 'realmente', 'ofrecer', 'mucho', 'caracteristica', 'recomendado', 'uso', 'diario', 'basico'], ['lucir', 'impresionante', 'pantalla', 'pulgada', 'pantalla', 'brillante', 'alto', 'contraste', 'excelente', 'definicion', 'gb', 'almacenamiento', 'integrado', 'procesador', 'nucleo', 'gb', 'ram', 'poder', 'usar', 'tarjeta', 'micro', 'sd', 'almacenamiento', 'adicional'], ['telefono', 'bateria', 'duro', 'hora', 'experiencia', 'ahora', 'increiblemente', 'buen', 'mayorio', 'telefono', 'buen', 'duracion', 'bateria', 'hora', 'venir', 'encima'], ['reconocimiento', 'facial', 'lector', 'huella', 'dactilar', 'pantalla', 'ambos', 'funcionar', 'perfeccion', 'telefono', 'mejor', 'telefono', 'gente', 'cuestionar', 'cubierto', 'plastico', 'frente', 'cubierto', 'aluminio', 'sinceramente', 'nunca', 'sabria', 'si', 'decir'], ['telefono', 'desbloqueado', 'correctamente', 'poder', 'configurar él', 'poner él', 'red', 'despu', 'aproximadamente', 'hora', 'tratar', 'resolver', 'problema', 'dar', 'vencido', 'xfinity', 'operador', 'anterior', 'decir', 'podian', 'desbloquear él', 'habia', 'contar', 'activo', 'asi', 'ten', 'cuidado', 'gran', 'telefono', 'si', 'vendedor', 'desbloquea', 'correctamente', 'enfrentaras ', 'problema', 'grave'], ['telefono', 'abrir', 'menu', 'desplazar', 'arriba', 'botón', 'apagado', 'reinicio', 'funcionar', 'correctamente', 'siquiera', 'pasado', 'semana', 'lector', 'huella', 'dactilar', 'funciono', 'dia', 'ahora', 'esperar', 'vendedor', 'corregir', 'rapidamente'], ['recomeir', 'fluidez', 'encanto', 'correr', 'aplicación', 'actual', 'super', 'buen', 'rapido'], ['telefono', 'buen', 'camara', 'carga', 'rapido', 'buen', 'almacenamiento'], ['usado', 'bastante', 'telefono', 'impresionado', 'tomar', 'fotografia', 'fabuloso', 'duracion', 'bateria', 'tambien', 'parecer', 'ser', 'bastante', 'precisar', 'depender', 'hacer'], ['recomeir', 'producto', 'fabuloso'], ['buen', 'celular', 'buen', 'camara'], ['aplicación', 'instalar', 'funcionar', 'perfeccion'], ['tomar', 'fotografia', 'excelente'], ['telefono', 'malo', 'calidad', 'buen', 'precio'], ['buen', 'bateria', 'durado', 'dia', 'usandolo', 'maximo'], ['gusto', 'reconocimiento', 'huella', 'digital', 'siempre', 'fallo', 'punto', 'fuerte'], ['juego', 'descarguen ', 'funcionar', 'lento', 'servir'], ['avez', 'cerrar', 'solo', 'aplicación', 'trar'], ['celular', 'malo', 'iphone', 'mejor'], ['resistente', 'caida'], ['ram', 'celular', 'bueno'], ['reconocer', 'facilidad', 'huella', 'digital'], ['bateria', 'duro'], ['buen', 'camara'], ['lindo'], ['compraras', 'valer'], ['gusga', 'bueno'], ['gusto'], ['feo'], ['buen', 'memoria'], ['existir', 'mejor', 'altenartiva', 'samsung']]"
   ]
  },
  {
   "cell_type": "code",
   "execution_count": 231,
   "id": "671e3da3",
   "metadata": {},
   "outputs": [
    {
     "name": "stderr",
     "output_type": "stream",
     "text": [
      "C:\\Users\\vazqu\\anaconda3\\envs\\tesis\\lib\\site-packages\\ipykernel\\ipkernel.py:283: DeprecationWarning: `should_run_async` will not call `transform_cell` automatically in the future. Please pass the result to `transformed_cell` argument and any exception that happen during thetransform in `preprocessing_exc_tuple` in IPython 7.17 and above.\n",
      "  and should_run_async(code)\n"
     ]
    },
    {
     "data": {
      "text/plain": [
       "<gensim.corpora.dictionary.Dictionary at 0x192fa7808c8>"
      ]
     },
     "execution_count": 231,
     "metadata": {},
     "output_type": "execute_result"
    }
   ],
   "source": [
    "from gensim import corpora, models\n",
    "import gensim\n",
    "diccionario_LDA=corpora.Dictionary(leman)\n",
    "diccionario_LDA"
   ]
  },
  {
   "cell_type": "code",
   "execution_count": 232,
   "id": "77c3d166",
   "metadata": {},
   "outputs": [
    {
     "name": "stderr",
     "output_type": "stream",
     "text": [
      "C:\\Users\\vazqu\\anaconda3\\envs\\tesis\\lib\\site-packages\\ipykernel\\ipkernel.py:283: DeprecationWarning: `should_run_async` will not call `transform_cell` automatically in the future. Please pass the result to `transformed_cell` argument and any exception that happen during thetransform in `preprocessing_exc_tuple` in IPython 7.17 and above.\n",
      "  and should_run_async(code)\n"
     ]
    },
    {
     "data": {
      "text/plain": [
       "[[(0, 1),\n",
       "  (1, 1),\n",
       "  (2, 1),\n",
       "  (3, 1),\n",
       "  (4, 1),\n",
       "  (5, 1),\n",
       "  (6, 1),\n",
       "  (7, 1),\n",
       "  (8, 1),\n",
       "  (9, 1)],\n",
       " [(10, 1),\n",
       "  (11, 2),\n",
       "  (12, 1),\n",
       "  (13, 1),\n",
       "  (14, 1),\n",
       "  (15, 1),\n",
       "  (16, 1),\n",
       "  (17, 2),\n",
       "  (18, 1),\n",
       "  (19, 1),\n",
       "  (20, 1),\n",
       "  (21, 1),\n",
       "  (22, 1),\n",
       "  (23, 2),\n",
       "  (24, 1),\n",
       "  (25, 1),\n",
       "  (26, 1),\n",
       "  (27, 1),\n",
       "  (28, 1),\n",
       "  (29, 1),\n",
       "  (30, 1)],\n",
       " [(31, 1),\n",
       "  (32, 2),\n",
       "  (33, 2),\n",
       "  (34, 1),\n",
       "  (35, 1),\n",
       "  (36, 1),\n",
       "  (37, 1),\n",
       "  (38, 2),\n",
       "  (39, 1),\n",
       "  (40, 1),\n",
       "  (41, 2),\n",
       "  (42, 1)],\n",
       " [(23, 1),\n",
       "  (41, 2),\n",
       "  (43, 1),\n",
       "  (44, 1),\n",
       "  (45, 2),\n",
       "  (46, 1),\n",
       "  (47, 1),\n",
       "  (48, 1),\n",
       "  (49, 1),\n",
       "  (50, 1),\n",
       "  (51, 1),\n",
       "  (52, 1),\n",
       "  (53, 1),\n",
       "  (54, 1),\n",
       "  (55, 1),\n",
       "  (56, 1),\n",
       "  (57, 1),\n",
       "  (58, 1),\n",
       "  (59, 1),\n",
       "  (60, 1),\n",
       "  (61, 1),\n",
       "  (62, 1)],\n",
       " [(24, 1),\n",
       "  (38, 1),\n",
       "  (41, 2),\n",
       "  (48, 1),\n",
       "  (61, 1),\n",
       "  (63, 1),\n",
       "  (64, 1),\n",
       "  (65, 1),\n",
       "  (66, 1),\n",
       "  (67, 1),\n",
       "  (68, 1),\n",
       "  (69, 2),\n",
       "  (70, 1),\n",
       "  (71, 1),\n",
       "  (72, 1),\n",
       "  (73, 1),\n",
       "  (74, 1),\n",
       "  (75, 1),\n",
       "  (76, 1),\n",
       "  (77, 1),\n",
       "  (78, 1),\n",
       "  (79, 1),\n",
       "  (80, 1),\n",
       "  (81, 1),\n",
       "  (82, 1),\n",
       "  (83, 2),\n",
       "  (84, 1),\n",
       "  (85, 1),\n",
       "  (86, 1),\n",
       "  (87, 1),\n",
       "  (88, 1),\n",
       "  (89, 1),\n",
       "  (90, 1)],\n",
       " [(31, 1),\n",
       "  (41, 1),\n",
       "  (47, 1),\n",
       "  (51, 1),\n",
       "  (53, 1),\n",
       "  (54, 1),\n",
       "  (69, 1),\n",
       "  (89, 1),\n",
       "  (91, 1),\n",
       "  (92, 1),\n",
       "  (93, 1),\n",
       "  (94, 1),\n",
       "  (95, 1),\n",
       "  (96, 1),\n",
       "  (97, 1),\n",
       "  (98, 1),\n",
       "  (99, 1),\n",
       "  (100, 1),\n",
       "  (101, 1),\n",
       "  (102, 1),\n",
       "  (103, 1),\n",
       "  (104, 1),\n",
       "  (105, 1)],\n",
       " [(33, 1),\n",
       "  (106, 1),\n",
       "  (107, 1),\n",
       "  (108, 1),\n",
       "  (109, 1),\n",
       "  (110, 1),\n",
       "  (111, 1),\n",
       "  (112, 1),\n",
       "  (113, 1)],\n",
       " [(11, 1), (33, 2), (41, 1), (111, 1), (114, 1), (115, 1)],\n",
       " [(32, 1),\n",
       "  (34, 1),\n",
       "  (41, 1),\n",
       "  (116, 2),\n",
       "  (117, 1),\n",
       "  (118, 1),\n",
       "  (119, 1),\n",
       "  (120, 1),\n",
       "  (121, 1),\n",
       "  (122, 1),\n",
       "  (123, 1),\n",
       "  (124, 1),\n",
       "  (125, 1),\n",
       "  (126, 1),\n",
       "  (127, 1)],\n",
       " [(112, 1), (118, 1), (128, 1)],\n",
       " [(2, 1), (33, 2), (114, 1)],\n",
       " [(51, 1), (57, 1), (107, 1), (129, 1)],\n",
       " [(16, 1), (119, 1), (126, 1)],\n",
       " [(6, 1), (33, 1), (41, 1), (130, 1), (131, 1)],\n",
       " [(32, 1), (33, 1), (97, 1), (132, 1), (133, 1), (134, 1)],\n",
       " [(53, 1),\n",
       "  (59, 1),\n",
       "  (135, 1),\n",
       "  (136, 1),\n",
       "  (137, 1),\n",
       "  (138, 1),\n",
       "  (139, 1),\n",
       "  (140, 1)],\n",
       " [(51, 1), (141, 1), (142, 1), (143, 1), (144, 1)],\n",
       " [(107, 1), (145, 1), (146, 1), (147, 1), (148, 1)],\n",
       " [(2, 1), (55, 1), (131, 1), (149, 1)],\n",
       " [(150, 1), (151, 1)],\n",
       " [(2, 1), (27, 1), (152, 1)],\n",
       " [(53, 1), (135, 1), (153, 1), (154, 1)],\n",
       " [(32, 1), (35, 1)],\n",
       " [(33, 1), (114, 1)],\n",
       " [(155, 1)],\n",
       " [(156, 1), (157, 1)],\n",
       " [(152, 1), (158, 1)],\n",
       " [(138, 1)],\n",
       " [(159, 1)],\n",
       " [(33, 1), (160, 1)],\n",
       " [(55, 1), (161, 1), (162, 1), (163, 1)]]"
      ]
     },
     "execution_count": 232,
     "metadata": {},
     "output_type": "execute_result"
    }
   ],
   "source": [
    "corpus = [diccionario_LDA.doc2bow(text) for text in leman]\n",
    "corpus"
   ]
  },
  {
   "cell_type": "code",
   "execution_count": 233,
   "id": "aee144ea",
   "metadata": {
    "scrolled": true
   },
   "outputs": [
    {
     "name": "stderr",
     "output_type": "stream",
     "text": [
      "C:\\Users\\vazqu\\anaconda3\\envs\\tesis\\lib\\site-packages\\ipykernel\\ipkernel.py:283: DeprecationWarning: `should_run_async` will not call `transform_cell` automatically in the future. Please pass the result to `transformed_cell` argument and any exception that happen during thetransform in `preprocessing_exc_tuple` in IPython 7.17 and above.\n",
      "  and should_run_async(code)\n",
      "C:\\Users\\vazqu\\anaconda3\\envs\\tesis\\lib\\site-packages\\gensim\\models\\ldamodel.py:853: DeprecationWarning: Calling np.sum(generator) is deprecated, and in the future will give a different result. Use np.sum(np.fromiter(generator)) or the python sum builtin instead.\n",
      "  score += np.sum(cnt * logsumexp(Elogthetad + Elogbeta[:, int(id)]) for id, cnt in doc)\n",
      "C:\\Users\\vazqu\\anaconda3\\envs\\tesis\\lib\\site-packages\\gensim\\models\\ldamodel.py:853: DeprecationWarning: Calling np.sum(generator) is deprecated, and in the future will give a different result. Use np.sum(np.fromiter(generator)) or the python sum builtin instead.\n",
      "  score += np.sum(cnt * logsumexp(Elogthetad + Elogbeta[:, int(id)]) for id, cnt in doc)\n",
      "C:\\Users\\vazqu\\anaconda3\\envs\\tesis\\lib\\site-packages\\gensim\\models\\ldamodel.py:853: DeprecationWarning: Calling np.sum(generator) is deprecated, and in the future will give a different result. Use np.sum(np.fromiter(generator)) or the python sum builtin instead.\n",
      "  score += np.sum(cnt * logsumexp(Elogthetad + Elogbeta[:, int(id)]) for id, cnt in doc)\n",
      "C:\\Users\\vazqu\\anaconda3\\envs\\tesis\\lib\\site-packages\\gensim\\models\\ldamodel.py:853: DeprecationWarning: Calling np.sum(generator) is deprecated, and in the future will give a different result. Use np.sum(np.fromiter(generator)) or the python sum builtin instead.\n",
      "  score += np.sum(cnt * logsumexp(Elogthetad + Elogbeta[:, int(id)]) for id, cnt in doc)\n",
      "C:\\Users\\vazqu\\anaconda3\\envs\\tesis\\lib\\site-packages\\gensim\\models\\ldamodel.py:853: DeprecationWarning: Calling np.sum(generator) is deprecated, and in the future will give a different result. Use np.sum(np.fromiter(generator)) or the python sum builtin instead.\n",
      "  score += np.sum(cnt * logsumexp(Elogthetad + Elogbeta[:, int(id)]) for id, cnt in doc)\n",
      "C:\\Users\\vazqu\\anaconda3\\envs\\tesis\\lib\\site-packages\\gensim\\models\\ldamodel.py:853: DeprecationWarning: Calling np.sum(generator) is deprecated, and in the future will give a different result. Use np.sum(np.fromiter(generator)) or the python sum builtin instead.\n",
      "  score += np.sum(cnt * logsumexp(Elogthetad + Elogbeta[:, int(id)]) for id, cnt in doc)\n",
      "C:\\Users\\vazqu\\anaconda3\\envs\\tesis\\lib\\site-packages\\gensim\\models\\ldamodel.py:853: DeprecationWarning: Calling np.sum(generator) is deprecated, and in the future will give a different result. Use np.sum(np.fromiter(generator)) or the python sum builtin instead.\n",
      "  score += np.sum(cnt * logsumexp(Elogthetad + Elogbeta[:, int(id)]) for id, cnt in doc)\n",
      "C:\\Users\\vazqu\\anaconda3\\envs\\tesis\\lib\\site-packages\\gensim\\models\\ldamodel.py:853: DeprecationWarning: Calling np.sum(generator) is deprecated, and in the future will give a different result. Use np.sum(np.fromiter(generator)) or the python sum builtin instead.\n",
      "  score += np.sum(cnt * logsumexp(Elogthetad + Elogbeta[:, int(id)]) for id, cnt in doc)\n",
      "C:\\Users\\vazqu\\anaconda3\\envs\\tesis\\lib\\site-packages\\gensim\\models\\ldamodel.py:853: DeprecationWarning: Calling np.sum(generator) is deprecated, and in the future will give a different result. Use np.sum(np.fromiter(generator)) or the python sum builtin instead.\n",
      "  score += np.sum(cnt * logsumexp(Elogthetad + Elogbeta[:, int(id)]) for id, cnt in doc)\n",
      "C:\\Users\\vazqu\\anaconda3\\envs\\tesis\\lib\\site-packages\\gensim\\models\\ldamodel.py:853: DeprecationWarning: Calling np.sum(generator) is deprecated, and in the future will give a different result. Use np.sum(np.fromiter(generator)) or the python sum builtin instead.\n",
      "  score += np.sum(cnt * logsumexp(Elogthetad + Elogbeta[:, int(id)]) for id, cnt in doc)\n",
      "C:\\Users\\vazqu\\anaconda3\\envs\\tesis\\lib\\site-packages\\gensim\\models\\ldamodel.py:853: DeprecationWarning: Calling np.sum(generator) is deprecated, and in the future will give a different result. Use np.sum(np.fromiter(generator)) or the python sum builtin instead.\n",
      "  score += np.sum(cnt * logsumexp(Elogthetad + Elogbeta[:, int(id)]) for id, cnt in doc)\n",
      "C:\\Users\\vazqu\\anaconda3\\envs\\tesis\\lib\\site-packages\\gensim\\models\\ldamodel.py:853: DeprecationWarning: Calling np.sum(generator) is deprecated, and in the future will give a different result. Use np.sum(np.fromiter(generator)) or the python sum builtin instead.\n",
      "  score += np.sum(cnt * logsumexp(Elogthetad + Elogbeta[:, int(id)]) for id, cnt in doc)\n",
      "C:\\Users\\vazqu\\anaconda3\\envs\\tesis\\lib\\site-packages\\gensim\\models\\ldamodel.py:853: DeprecationWarning: Calling np.sum(generator) is deprecated, and in the future will give a different result. Use np.sum(np.fromiter(generator)) or the python sum builtin instead.\n",
      "  score += np.sum(cnt * logsumexp(Elogthetad + Elogbeta[:, int(id)]) for id, cnt in doc)\n",
      "C:\\Users\\vazqu\\anaconda3\\envs\\tesis\\lib\\site-packages\\gensim\\models\\ldamodel.py:853: DeprecationWarning: Calling np.sum(generator) is deprecated, and in the future will give a different result. Use np.sum(np.fromiter(generator)) or the python sum builtin instead.\n",
      "  score += np.sum(cnt * logsumexp(Elogthetad + Elogbeta[:, int(id)]) for id, cnt in doc)\n",
      "C:\\Users\\vazqu\\anaconda3\\envs\\tesis\\lib\\site-packages\\gensim\\models\\ldamodel.py:853: DeprecationWarning: Calling np.sum(generator) is deprecated, and in the future will give a different result. Use np.sum(np.fromiter(generator)) or the python sum builtin instead.\n",
      "  score += np.sum(cnt * logsumexp(Elogthetad + Elogbeta[:, int(id)]) for id, cnt in doc)\n",
      "C:\\Users\\vazqu\\anaconda3\\envs\\tesis\\lib\\site-packages\\gensim\\models\\ldamodel.py:853: DeprecationWarning: Calling np.sum(generator) is deprecated, and in the future will give a different result. Use np.sum(np.fromiter(generator)) or the python sum builtin instead.\n",
      "  score += np.sum(cnt * logsumexp(Elogthetad + Elogbeta[:, int(id)]) for id, cnt in doc)\n",
      "C:\\Users\\vazqu\\anaconda3\\envs\\tesis\\lib\\site-packages\\gensim\\models\\ldamodel.py:853: DeprecationWarning: Calling np.sum(generator) is deprecated, and in the future will give a different result. Use np.sum(np.fromiter(generator)) or the python sum builtin instead.\n",
      "  score += np.sum(cnt * logsumexp(Elogthetad + Elogbeta[:, int(id)]) for id, cnt in doc)\n",
      "C:\\Users\\vazqu\\anaconda3\\envs\\tesis\\lib\\site-packages\\gensim\\models\\ldamodel.py:853: DeprecationWarning: Calling np.sum(generator) is deprecated, and in the future will give a different result. Use np.sum(np.fromiter(generator)) or the python sum builtin instead.\n",
      "  score += np.sum(cnt * logsumexp(Elogthetad + Elogbeta[:, int(id)]) for id, cnt in doc)\n",
      "C:\\Users\\vazqu\\anaconda3\\envs\\tesis\\lib\\site-packages\\gensim\\models\\ldamodel.py:853: DeprecationWarning: Calling np.sum(generator) is deprecated, and in the future will give a different result. Use np.sum(np.fromiter(generator)) or the python sum builtin instead.\n",
      "  score += np.sum(cnt * logsumexp(Elogthetad + Elogbeta[:, int(id)]) for id, cnt in doc)\n",
      "C:\\Users\\vazqu\\anaconda3\\envs\\tesis\\lib\\site-packages\\gensim\\models\\ldamodel.py:853: DeprecationWarning: Calling np.sum(generator) is deprecated, and in the future will give a different result. Use np.sum(np.fromiter(generator)) or the python sum builtin instead.\n",
      "  score += np.sum(cnt * logsumexp(Elogthetad + Elogbeta[:, int(id)]) for id, cnt in doc)\n",
      "C:\\Users\\vazqu\\anaconda3\\envs\\tesis\\lib\\site-packages\\gensim\\models\\ldamodel.py:853: DeprecationWarning: Calling np.sum(generator) is deprecated, and in the future will give a different result. Use np.sum(np.fromiter(generator)) or the python sum builtin instead.\n",
      "  score += np.sum(cnt * logsumexp(Elogthetad + Elogbeta[:, int(id)]) for id, cnt in doc)\n",
      "C:\\Users\\vazqu\\anaconda3\\envs\\tesis\\lib\\site-packages\\gensim\\models\\ldamodel.py:853: DeprecationWarning: Calling np.sum(generator) is deprecated, and in the future will give a different result. Use np.sum(np.fromiter(generator)) or the python sum builtin instead.\n",
      "  score += np.sum(cnt * logsumexp(Elogthetad + Elogbeta[:, int(id)]) for id, cnt in doc)\n",
      "C:\\Users\\vazqu\\anaconda3\\envs\\tesis\\lib\\site-packages\\gensim\\models\\ldamodel.py:853: DeprecationWarning: Calling np.sum(generator) is deprecated, and in the future will give a different result. Use np.sum(np.fromiter(generator)) or the python sum builtin instead.\n",
      "  score += np.sum(cnt * logsumexp(Elogthetad + Elogbeta[:, int(id)]) for id, cnt in doc)\n"
     ]
    },
    {
     "name": "stderr",
     "output_type": "stream",
     "text": [
      "C:\\Users\\vazqu\\anaconda3\\envs\\tesis\\lib\\site-packages\\gensim\\models\\ldamodel.py:853: DeprecationWarning: Calling np.sum(generator) is deprecated, and in the future will give a different result. Use np.sum(np.fromiter(generator)) or the python sum builtin instead.\n",
      "  score += np.sum(cnt * logsumexp(Elogthetad + Elogbeta[:, int(id)]) for id, cnt in doc)\n",
      "C:\\Users\\vazqu\\anaconda3\\envs\\tesis\\lib\\site-packages\\gensim\\models\\ldamodel.py:853: DeprecationWarning: Calling np.sum(generator) is deprecated, and in the future will give a different result. Use np.sum(np.fromiter(generator)) or the python sum builtin instead.\n",
      "  score += np.sum(cnt * logsumexp(Elogthetad + Elogbeta[:, int(id)]) for id, cnt in doc)\n",
      "C:\\Users\\vazqu\\anaconda3\\envs\\tesis\\lib\\site-packages\\gensim\\models\\ldamodel.py:853: DeprecationWarning: Calling np.sum(generator) is deprecated, and in the future will give a different result. Use np.sum(np.fromiter(generator)) or the python sum builtin instead.\n",
      "  score += np.sum(cnt * logsumexp(Elogthetad + Elogbeta[:, int(id)]) for id, cnt in doc)\n",
      "C:\\Users\\vazqu\\anaconda3\\envs\\tesis\\lib\\site-packages\\gensim\\models\\ldamodel.py:853: DeprecationWarning: Calling np.sum(generator) is deprecated, and in the future will give a different result. Use np.sum(np.fromiter(generator)) or the python sum builtin instead.\n",
      "  score += np.sum(cnt * logsumexp(Elogthetad + Elogbeta[:, int(id)]) for id, cnt in doc)\n",
      "C:\\Users\\vazqu\\anaconda3\\envs\\tesis\\lib\\site-packages\\gensim\\models\\ldamodel.py:853: DeprecationWarning: Calling np.sum(generator) is deprecated, and in the future will give a different result. Use np.sum(np.fromiter(generator)) or the python sum builtin instead.\n",
      "  score += np.sum(cnt * logsumexp(Elogthetad + Elogbeta[:, int(id)]) for id, cnt in doc)\n"
     ]
    },
    {
     "name": "stdout",
     "output_type": "stream",
     "text": [
      "[(0,\n",
      "  '0.050*\"mejor\" + 0.042*\"samsung\" + 0.042*\"existir\" + 0.042*\"altenartiva\" + '\n",
      "  '0.035*\"telefono\" + 0.026*\"buen\" + 0.021*\"huella\" + 0.020*\"funcionar\" + '\n",
      "  '0.014*\"gusto\" + 0.013*\"digital\"'),\n",
      " (1,\n",
      "  '0.041*\"telefono\" + 0.031*\"buen\" + 0.019*\"mejor\" + 0.015*\"correctamente\" + '\n",
      "  '0.015*\"bateria\" + 0.013*\"celular\" + 0.013*\"huella\" + 0.013*\"funcionar\" + '\n",
      "  '0.013*\"hora\" + 0.012*\"aplicación\"'),\n",
      " (2,\n",
      "  '0.041*\"telefono\" + 0.033*\"buen\" + 0.018*\"mejor\" + 0.018*\"bateria\" + '\n",
      "  '0.015*\"huella\" + 0.015*\"funcionar\" + 0.014*\"aplicación\" + '\n",
      "  '0.013*\"correctamente\" + 0.013*\"celular\" + 0.012*\"fotografia\"'),\n",
      " (3,\n",
      "  '0.061*\"buen\" + 0.042*\"telefono\" + 0.027*\"bateria\" + 0.019*\"camara\" + '\n",
      "  '0.018*\"mejor\" + 0.016*\"celular\" + 0.015*\"almacenamiento\" + 0.014*\"pantalla\" '\n",
      "  '+ 0.014*\"hora\" + 0.013*\"duro\"'),\n",
      " (4,\n",
      "  '0.040*\"telefono\" + 0.035*\"buen\" + 0.026*\"celular\" + 0.024*\"mejor\" + '\n",
      "  '0.018*\"bueno\" + 0.017*\"aplicación\" + 0.015*\"bateria\" + 0.014*\"malo\" + '\n",
      "  '0.013*\"ram\" + 0.013*\"huella\"')]\n"
     ]
    },
    {
     "name": "stderr",
     "output_type": "stream",
     "text": [
      "C:\\Users\\vazqu\\anaconda3\\envs\\tesis\\lib\\site-packages\\gensim\\models\\ldamodel.py:853: DeprecationWarning: Calling np.sum(generator) is deprecated, and in the future will give a different result. Use np.sum(np.fromiter(generator)) or the python sum builtin instead.\n",
      "  score += np.sum(cnt * logsumexp(Elogthetad + Elogbeta[:, int(id)]) for id, cnt in doc)\n",
      "C:\\Users\\vazqu\\anaconda3\\envs\\tesis\\lib\\site-packages\\gensim\\models\\ldamodel.py:853: DeprecationWarning: Calling np.sum(generator) is deprecated, and in the future will give a different result. Use np.sum(np.fromiter(generator)) or the python sum builtin instead.\n",
      "  score += np.sum(cnt * logsumexp(Elogthetad + Elogbeta[:, int(id)]) for id, cnt in doc)\n"
     ]
    }
   ],
   "source": [
    "from pprint import pprint\n",
    "import time\n",
    "# number of topics\n",
    "num_topics = 5\n",
    "# Build LDA model\n",
    "lda_model = gensim.models.LdaModel(corpus=corpus,\n",
    "                                       id2word=diccionario_LDA,\n",
    "                                       num_topics=num_topics,\n",
    "                                      per_word_topics =True,\n",
    "                                      passes=30,\n",
    "                                    chunksize=5, \n",
    "                                   iterations = 50,\n",
    "                                   eta='auto',\n",
    "                                   random_state = 42\n",
    "                                       #workers=5\n",
    "                                      )\n",
    "# passes = numero de iteraciones para el modelo, entrenamiento \n",
    "# Alfa y eta: son hiperparámetros que afectan la densidad de tópicos. El valor por defecto de ambos es 1/num_topics\n",
    "# \n",
    "# chunksize - número de documentos a considerar a la vez (afecta el consumo de memoria)\n",
    "# per_word_topics- establecer esto en True permite la extracción de los temas más probables dada una palabra. El proceso de formación se establece de tal manera que cada palabra se asignará a un tema.\n",
    "# Print the Keyword in the 10 topics\n",
    "# workers=7, # Num. Processing Cores - 1\n",
    "pprint(lda_model.print_topics())\n",
    "doc_lda = lda_model[corpus]"
   ]
  },
  {
   "cell_type": "code",
   "execution_count": 234,
   "id": "afc94824",
   "metadata": {},
   "outputs": [
    {
     "name": "stderr",
     "output_type": "stream",
     "text": [
      "C:\\Users\\vazqu\\anaconda3\\envs\\tesis\\lib\\site-packages\\ipykernel\\ipkernel.py:283: DeprecationWarning: `should_run_async` will not call `transform_cell` automatically in the future. Please pass the result to `transformed_cell` argument and any exception that happen during thetransform in `preprocessing_exc_tuple` in IPython 7.17 and above.\n",
      "  and should_run_async(code)\n"
     ]
    },
    {
     "data": {
      "text/html": [
       "\n",
       "<link rel=\"stylesheet\" type=\"text/css\" href=\"https://cdn.jsdelivr.net/gh/bmabey/pyLDAvis@3.3.1/pyLDAvis/js/ldavis.v1.0.0.css\">\n",
       "\n",
       "\n",
       "<div id=\"ldavis_el1633617307782583769793344176\"></div>\n",
       "<script type=\"text/javascript\">\n",
       "\n",
       "var ldavis_el1633617307782583769793344176_data = {\"mdsDat\": {\"x\": [0.012567000318890114, 0.007284309980708703, -0.03046255245568844, 0.005999951585369689, 0.004611290570719933], \"y\": [-0.01104288781367423, 0.007494099814029688, -0.0016939183160120301, 0.006056129436787243, -0.000813423121130681], \"topics\": [1, 2, 3, 4, 5], \"cluster\": [1, 1, 1, 1, 1], \"Freq\": [25.806889785967147, 22.935975863512024, 20.70910120653885, 18.32251807699673, 12.22551506698525]}, \"tinfo\": {\"Term\": [\"samsung\", \"altenartiva\", \"existir\", \"mejor\", \"bueno\", \"celular\", \"buen\", \"malo\", \"telefono\", \"gusga\", \"precio\", \"ram\", \"aplicaci\\u00f3n\", \"cerrar\", \"avez\", \"trar\", \"solo\", \"iphone\", \"valer\", \"compraras\", \"feo\", \"gusto\", \"calidad\", \"digital\", \"huella\", \"lindo\", \"correctamente\", \"problema\", \"camara\", \"funcionar\", \"memoria\", \"camara\", \"duro\", \"almacenamiento\", \"buen\", \"durado\", \"maximo\", \"usandolo\", \"gb\", \"bateria\", \"carga\", \"definicion\", \"pulgada\", \"impresionante\", \"micro\", \"adicional\", \"contraste\", \"procesador\", \"usar\", \"lucir\", \"integrado\", \"nucleo\", \"tarjeta\", \"alto\", \"brillante\", \"sd\", \"experiencia\", \"encima\", \"increiblemente\", \"venir\", \"pantalla\", \"hora\", \"telefono\", \"dia\", \"celular\", \"rapido\", \"poder\", \"ram\", \"duracion\", \"ahora\", \"excelente\", \"mejor\", \"funcionar\", \"huella\", \"aplicaci\\u00f3n\", \"correctamente\", \"altenartiva\", \"existir\", \"samsung\", \"lector\", \"dactilar\", \"vendedor\", \"decir\", \"fotografia\", \"tomar\", \"bastante\", \"fabuloso\", \"recomeir\", \"abrir\", \"apagado\", \"arriba\", \"bot\\u00f3n\", \"corregir\", \"desplazar\", \"esperar\", \"funciono\", \"menu\", \"pasado\", \"rapidamente\", \"reinicio\", \"semana\", \"siquiera\", \"depender\", \"hacer\", \"impresionado\", \"parecer\", \"precisar\", \"ser\", \"tambien\", \"usado\", \"actual\", \"correr\", \"encanto\", \"telefono\", \"buen\", \"excelente\", \"aplicaci\\u00f3n\", \"funcionar\", \"correctamente\", \"huella\", \"bateria\", \"lector\", \"dactilar\", \"vendedor\", \"ahora\", \"duracion\", \"rapido\", \"dia\", \"mejor\", \"celular\", \"pantalla\", \"hora\", \"altenartiva\", \"existir\", \"samsung\", \"producto\", \"ram\", \"camara\", \"decir\", \"almacenamiento\", \"altenartiva\", \"existir\", \"samsung\", \"mejor\", \"gusto\", \"digital\", \"facilidad\", \"reconocer\", \"reconocimiento\", \"fallo\", \"fuerte\", \"punto\", \"siempre\", \"descarguen \", \"juego\", \"lento\", \"servir\", \"perfeccion\", \"instalar\", \"cubierto\", \"huella\", \"funcionar\", \"gente\", \"facial\", \"ambos\", \"plastico\", \"sinceramente\", \"sabria\", \"aluminio\", \"cuestionar\", \"telefono\", \"aplicaci\\u00f3n\", \"buen\", \"pantalla\", \"decir\", \"si\", \"lector\", \"dactilar\", \"bateria\", \"celular\", \"correctamente\", \"hora\", \"compraras\", \"valer\", \"feo\", \"lindo\", \"caida\", \"resistente\", \"problema\", \"poner \\u00e9l\", \"configurar \\u00e9l\", \"podian\", \"activo\", \"red\", \"ten\", \"tratar\", \"desbloqueado\", \"gran\", \"contar\", \"resolver\", \"vencido\", \"despu\", \"dar\", \"desbloquea\", \"grave\", \"aproximadamente\", \"habia\", \"enfrentaras \", \"xfinity\", \"operador\", \"asi\", \"desbloquear \\u00e9l\", \"correctamente\", \"telefono\", \"buen\", \"decir\", \"si\", \"hora\", \"anterior\", \"cuidado\", \"poder\", \"vendedor\", \"mejor\", \"bateria\", \"celular\", \"funcionar\", \"huella\", \"aplicaci\\u00f3n\", \"pantalla\", \"altenartiva\", \"existir\", \"samsung\", \"ram\", \"lector\", \"dactilar\", \"rapido\", \"excelente\", \"dia\", \"camara\", \"bueno\", \"gusga\", \"malo\", \"avez\", \"cerrar\", \"solo\", \"trar\", \"iphone\", \"precio\", \"calidad\", \"celular\", \"basico\", \"ofrecer\", \"recomendado\", \"uso\", \"caracteristica\", \"mucho\", \"diario\", \"realmente\", \"ram\", \"aplicaci\\u00f3n\", \"telefono\", \"frente\", \"nunca\", \"sabria\", \"aluminio\", \"cuestionar\", \"plastico\", \"sinceramente\", \"ambos\", \"decir\", \"si\", \"mejor\", \"buen\", \"poder\", \"correctamente\", \"lector\", \"dactilar\", \"pantalla\", \"hora\", \"funcionar\", \"huella\", \"bateria\", \"altenartiva\", \"existir\", \"samsung\", \"vendedor\", \"dia\", \"rapido\", \"camara\", \"excelente\", \"almacenamiento\", \"duracion\"], \"Freq\": [4.0, 4.0, 4.0, 6.0, 1.0, 3.0, 9.0, 1.0, 9.0, 1.0, 1.0, 2.0, 3.0, 0.0, 0.0, 0.0, 0.0, 0.0, 1.0, 1.0, 1.0, 1.0, 0.0, 1.0, 3.0, 1.0, 2.0, 1.0, 2.0, 3.0, 0.5849794640684365, 1.153546929920979, 0.796373462544395, 0.9145561294455556, 3.7346391091296383, 0.43009297557310266, 0.43009297557310266, 0.43009297557310266, 0.6241152086848243, 1.6797732113566932, 0.3937959188382355, 0.36235876119585086, 0.3623591902123668, 0.3623605630652178, 0.36236345177642504, 0.3623637091863346, 0.3623641096017495, 0.3623646530226697, 0.36236551105570153, 0.3623672557228663, 0.3623679421492918, 0.3623688001823237, 0.3623688001823237, 0.36237040184398317, 0.36237068785499377, 0.36237077365829695, 0.36237374817280743, 0.3623766368840147, 0.36237955419632306, 0.36238167067780164, 0.8813742188350759, 0.8813067202365693, 2.5530454818894865, 0.6603024657927138, 0.9595318756856241, 0.623276281188469, 0.5882917575824455, 0.5962503571662047, 0.5913075148806419, 0.5912634119828041, 0.5946072811123857, 1.107507623136813, 0.7442516167995412, 0.7467266416810564, 0.68330982071134, 0.591391773724371, 0.6629580780263356, 0.6629580780263356, 0.6629580780263356, 0.444641755060302, 0.4446416406558978, 0.4446112376854687, 0.44170702468141465, 0.6631443250123216, 0.6631443250123216, 0.6251839435680386, 0.6254235971266818, 0.6254464745346983, 0.35860949671892206, 0.35860949671892206, 0.35860949671892206, 0.35860949671892206, 0.35860949671892206, 0.35860949671892206, 0.35860949671892206, 0.35860949671892206, 0.35860949671892206, 0.35860949671892206, 0.35860949671892206, 0.35860949671892206, 0.35860949671892206, 0.35860949671892206, 0.35858214550667133, 0.35858214550667133, 0.35858214550667133, 0.35858214550667133, 0.35858214550667133, 0.35858214550667133, 0.35858214550667133, 0.35858214550667133, 0.35860710730075146, 0.35860710730075146, 0.35860710730075146, 2.2208438035718063, 1.792335513237797, 0.5990617565146188, 0.7833726282639315, 0.8390022995316726, 0.6994986107364827, 0.8412314233301085, 0.9561078874277252, 0.5657660785648847, 0.5657659260488312, 0.5657289663252135, 0.5658283051146893, 0.5657930230676596, 0.5684292630514188, 0.5705655045733079, 1.0095940472416964, 0.6832172678380387, 0.5361077559737084, 0.5361625600755789, 0.6043572664062071, 0.6043572664062071, 0.6043572664062071, 0.3588010060433618, 0.4095939357082706, 0.42212503594926665, 0.4026386444457485, 0.4058845165144609, 2.060306075365866, 2.060306075365866, 2.060306075365866, 2.4858377897217774, 0.6968096190126465, 0.6504822624486901, 0.3784052375033234, 0.3784052375033234, 0.5377990950260464, 0.3414244531612257, 0.3414244531612257, 0.3414244531612257, 0.3414244531612257, 0.34146351636793637, 0.34146351636793637, 0.34146351636793637, 0.34146351636793637, 0.5053275175558801, 0.3106369772884785, 0.4504921853898029, 1.0472960475900834, 0.9781080853908082, 0.2615531629536946, 0.26155320885640515, 0.2615533695158922, 0.26155353017537925, 0.26155353017537925, 0.26155359902944514, 0.2615535760780898, 0.2615535760780898, 1.7164057218009283, 0.6449989082526537, 1.2924493884724075, 0.5303864958066941, 0.4246964227313361, 0.42469628502320433, 0.4268345250878287, 0.42683443328240755, 0.6300595038700054, 0.5411013819284796, 0.4269358323700971, 0.42461691923659717, 0.44400815025975077, 0.44400815025975077, 0.4437312120180906, 0.3978772002219977, 0.3591408951801015, 0.3591408951801015, 0.4737258288614048, 0.2750476985279227, 0.27505137398046275, 0.27505188163965333, 0.2750521253160648, 0.2750521253160648, 0.2750523486861087, 0.27505245021794683, 0.27505289695803453, 0.27505312032807844, 0.2750532015535489, 0.2750534858426957, 0.2750538513573129, 0.27505441993560636, 0.2750545823865474, 0.2750548666756941, 0.2750548666756941, 0.27505515096484084, 0.27505600383228107, 0.2750562881214278, 0.2750564505723688, 0.27505754711622055, 0.27505827814545497, 0.27505827814545497, 0.6715485534587134, 1.8048070488645085, 1.358997561345542, 0.4465831601254521, 0.44658295706177586, 0.5577625128924851, 0.27506034939495266, 0.2750583593709255, 0.44656728054596995, 0.4488026867195226, 0.8407556666380738, 0.6624912230817794, 0.568952824124675, 0.5649264775521301, 0.5668065222922577, 0.5186861574183526, 0.4464030832573599, 0.5032855645356771, 0.5032855645356771, 0.5032855645356771, 0.34108682862722434, 0.3374945103562811, 0.3374944291308106, 0.3398084818661722, 0.3397811291889823, 0.3413457754271693, 0.35151089938347907, 0.5198706201218407, 0.3001104505116136, 0.41400258089715586, 0.24279004750642855, 0.24279004750642855, 0.24279004750642855, 0.24279004750642855, 0.24276492725508153, 0.3590806876729591, 0.22063802348550937, 0.7455616350077559, 0.18589397893041604, 0.18589401957807195, 0.1858941144226024, 0.1858943989561937, 0.18589450734994276, 0.18589484608040863, 0.18589494092493905, 0.18589507641712538, 0.38583857887936945, 0.480292810523836, 1.1771858147896925, 0.11063662575135834, 0.11063662575135834, 0.11063656477987449, 0.11063655123065586, 0.11063655123065586, 0.11063650380839063, 0.11063650380839063, 0.11063640218925089, 0.22660295859528012, 0.22660283665231243, 0.6978947792947634, 1.0265728088503892, 0.22659360963442282, 0.30339553986468437, 0.2281107156448467, 0.22811066144797215, 0.3017193389290627, 0.30175009565536137, 0.38184776492453987, 0.38310748997779653, 0.4477869884932934, 0.34018334855849647, 0.34018334855849647, 0.34018334855849647, 0.22809451077936072, 0.23072463090367473, 0.22968714013444924, 0.23760297303842287, 0.22967806215796463, 0.2284289867905541, 0.22815884246943388], \"Total\": [4.0, 4.0, 4.0, 6.0, 1.0, 3.0, 9.0, 1.0, 9.0, 1.0, 1.0, 2.0, 3.0, 0.0, 0.0, 0.0, 0.0, 0.0, 1.0, 1.0, 1.0, 1.0, 0.0, 1.0, 3.0, 1.0, 2.0, 1.0, 2.0, 3.0, 1.2281100629079738, 2.4990833448020124, 1.8032262600504043, 2.2082728796246665, 9.204994381035775, 1.0664669481093796, 1.0664669481093796, 1.0664669481093796, 1.585273777893426, 4.376218814229497, 1.0270921693897321, 0.9890885929809523, 0.9890902844577426, 0.9890957054024333, 0.9891069619125672, 0.9891079122223269, 0.9891095339848743, 0.9891117166589555, 0.9891150314184173, 0.9891218514345225, 0.9891245652941725, 0.9891279211667763, 0.9891279211667763, 0.9891340650290255, 0.9891353202562018, 0.9891356116252145, 0.9892519749877454, 0.9892632314978793, 0.9892745861257272, 0.9892828488828761, 2.695990892801901, 2.701598808096592, 9.472287870916423, 2.1275914253445087, 3.4983649845845735, 2.0843913414044137, 1.9829358658398983, 2.057147080300274, 2.0438816126610746, 2.043815224997569, 2.086282600023597, 6.141589906033124, 3.508136244198692, 3.585168124871302, 3.110660325170114, 2.6927703101543488, 4.171090332892582, 4.171090332892582, 4.171090332892582, 2.002847584714143, 2.0028470905659193, 2.0082102462385016, 1.9422282105792315, 1.6826549142325216, 1.6826549142325216, 1.6243663793388208, 1.6268617291850413, 1.6272165758177084, 1.0092513504325025, 1.0092513504325025, 1.0092513504325025, 1.0092513504325025, 1.0092513504325025, 1.0092513504325025, 1.0092513504325025, 1.0092513504325025, 1.0092513504325025, 1.0092513504325025, 1.0092513504325025, 1.0092513504325025, 1.0092513504325025, 1.0092513504325025, 1.0092273585389286, 1.0092273585389286, 1.0092273585389286, 1.0092273585389286, 1.0092273585389286, 1.0092273585389286, 1.0092273585389286, 1.0092273585389286, 1.0095904001500822, 1.0095904001500822, 1.0095904001500822, 9.472287870916423, 9.204994381035775, 2.086282600023597, 3.110660325170114, 3.508136244198692, 2.6927703101543488, 3.585168124871302, 4.376218814229497, 2.002847584714143, 2.0028470905659193, 2.0082102462385016, 2.043815224997569, 2.0438816126610746, 2.0843913414044137, 2.1275914253445087, 6.141589906033124, 3.4983649845845735, 2.695990892801901, 2.701598808096592, 4.171090332892582, 4.171090332892582, 4.171090332892582, 1.0116407744227434, 2.057147080300274, 2.4990833448020124, 1.9422282105792315, 2.2082728796246665, 4.171090332892582, 4.171090332892582, 4.171090332892582, 6.141589906033124, 1.8095620934956198, 1.742881622746994, 1.0794696619787347, 1.0794696619787347, 1.6349792459082155, 1.0397638640293296, 1.0397638640293296, 1.0397638640293296, 1.0397638640293296, 1.0407234873044044, 1.0407234873044044, 1.0407234873044044, 1.0407234873044044, 1.5950146349244074, 1.0092688684629376, 1.5034086001317208, 3.585168124871302, 3.508136244198692, 0.9481218655588175, 0.9481220872135873, 0.948122997446568, 0.9481237901660552, 0.9481237901660552, 0.9481242172988487, 0.9481241436348693, 0.9481241436348693, 9.472287870916423, 3.110660325170114, 9.204994381035775, 2.695990892801901, 1.9422282105792315, 1.9422273411202517, 2.002847584714143, 2.0028470905659193, 4.376218814229497, 3.4983649845845735, 2.6927703101543488, 2.701598808096592, 1.139461900431856, 1.139461900431856, 1.1472411917221081, 1.1011159352513844, 1.0536077562593364, 1.0536077562593364, 1.5144790044107121, 0.9537178596857249, 0.9537368106040335, 0.9537393826763404, 0.9537406638773752, 0.9537406638773752, 0.9537418168402858, 0.9537423662761416, 0.9537447010883797, 0.9537458329761304, 0.9537462195494835, 0.9537477570296666, 0.9537495627124163, 0.953752532011667, 0.9537534024539999, 0.9537548283380056, 0.9537548283380056, 0.9537562617479527, 0.9537607292019395, 0.953762169386496, 0.9537629607834894, 0.9537687035034492, 0.953772373678676, 0.953772373678676, 2.6927703101543488, 9.472287870916423, 9.204994381035775, 1.9422282105792315, 1.9422273411202517, 2.701598808096592, 0.9537830126295904, 0.9537728507730463, 1.9829358658398983, 2.0082102462385016, 6.141589906033124, 4.376218814229497, 3.4983649845845735, 3.508136244198692, 3.585168124871302, 3.110660325170114, 2.695990892801901, 4.171090332892582, 4.171090332892582, 4.171090332892582, 2.057147080300274, 2.002847584714143, 2.0028470905659193, 2.0843913414044137, 2.086282600023597, 2.1275914253445087, 2.4990833448020124, 1.689389892280008, 1.0498159977085268, 1.5753904767175173, 0.9885033712328339, 0.9885033712328339, 0.9885033712328339, 0.9885033712328339, 0.9887947700478155, 1.5197834237856227, 0.9635535627944039, 3.4983649845845735, 0.9179358038735828, 0.917936149333794, 0.9179368608633606, 0.9179390665979268, 0.9179398546163455, 0.9179422948035683, 0.917943155075257, 0.917944018831196, 2.057147080300274, 3.110660325170114, 9.472287870916423, 0.9481247146995867, 0.9481247146995867, 0.9481242172988487, 0.9481241436348693, 0.9481241436348693, 0.9481237901660552, 0.9481237901660552, 0.948122997446568, 1.9422282105792315, 1.9422273411202517, 6.141589906033124, 9.204994381035775, 1.9829358658398983, 2.6927703101543488, 2.002847584714143, 2.0028470905659193, 2.695990892801901, 2.701598808096592, 3.508136244198692, 3.585168124871302, 4.376218814229497, 4.171090332892582, 4.171090332892582, 4.171090332892582, 2.0082102462385016, 2.1275914253445087, 2.0843913414044137, 2.4990833448020124, 2.086282600023597, 2.2082728796246665, 2.0438816126610746], \"Category\": [\"Default\", \"Default\", \"Default\", \"Default\", \"Default\", \"Default\", \"Default\", \"Default\", \"Default\", \"Default\", \"Default\", \"Default\", \"Default\", \"Default\", \"Default\", \"Default\", \"Default\", \"Default\", \"Default\", \"Default\", \"Default\", \"Default\", \"Default\", \"Default\", \"Default\", \"Default\", \"Default\", \"Default\", \"Default\", \"Default\", \"Topic1\", \"Topic1\", \"Topic1\", \"Topic1\", \"Topic1\", \"Topic1\", \"Topic1\", \"Topic1\", \"Topic1\", \"Topic1\", \"Topic1\", \"Topic1\", \"Topic1\", \"Topic1\", \"Topic1\", \"Topic1\", \"Topic1\", \"Topic1\", \"Topic1\", \"Topic1\", \"Topic1\", \"Topic1\", \"Topic1\", \"Topic1\", \"Topic1\", \"Topic1\", \"Topic1\", \"Topic1\", \"Topic1\", \"Topic1\", \"Topic1\", \"Topic1\", \"Topic1\", \"Topic1\", \"Topic1\", \"Topic1\", \"Topic1\", \"Topic1\", \"Topic1\", \"Topic1\", \"Topic1\", \"Topic1\", \"Topic1\", \"Topic1\", \"Topic1\", \"Topic1\", \"Topic1\", \"Topic1\", \"Topic1\", \"Topic1\", \"Topic1\", \"Topic1\", \"Topic1\", \"Topic2\", \"Topic2\", \"Topic2\", \"Topic2\", \"Topic2\", \"Topic2\", \"Topic2\", \"Topic2\", \"Topic2\", \"Topic2\", \"Topic2\", \"Topic2\", \"Topic2\", \"Topic2\", \"Topic2\", \"Topic2\", \"Topic2\", \"Topic2\", \"Topic2\", \"Topic2\", \"Topic2\", \"Topic2\", \"Topic2\", \"Topic2\", \"Topic2\", \"Topic2\", \"Topic2\", \"Topic2\", \"Topic2\", \"Topic2\", \"Topic2\", \"Topic2\", \"Topic2\", \"Topic2\", \"Topic2\", \"Topic2\", \"Topic2\", \"Topic2\", \"Topic2\", \"Topic2\", \"Topic2\", \"Topic2\", \"Topic2\", \"Topic2\", \"Topic2\", \"Topic2\", \"Topic2\", \"Topic2\", \"Topic2\", \"Topic2\", \"Topic2\", \"Topic2\", \"Topic2\", \"Topic2\", \"Topic2\", \"Topic2\", \"Topic2\", \"Topic3\", \"Topic3\", \"Topic3\", \"Topic3\", \"Topic3\", \"Topic3\", \"Topic3\", \"Topic3\", \"Topic3\", \"Topic3\", \"Topic3\", \"Topic3\", \"Topic3\", \"Topic3\", \"Topic3\", \"Topic3\", \"Topic3\", \"Topic3\", \"Topic3\", \"Topic3\", \"Topic3\", \"Topic3\", \"Topic3\", \"Topic3\", \"Topic3\", \"Topic3\", \"Topic3\", \"Topic3\", \"Topic3\", \"Topic3\", \"Topic3\", \"Topic3\", \"Topic3\", \"Topic3\", \"Topic3\", \"Topic3\", \"Topic3\", \"Topic3\", \"Topic3\", \"Topic3\", \"Topic3\", \"Topic3\", \"Topic4\", \"Topic4\", \"Topic4\", \"Topic4\", \"Topic4\", \"Topic4\", \"Topic4\", \"Topic4\", \"Topic4\", \"Topic4\", \"Topic4\", \"Topic4\", \"Topic4\", \"Topic4\", \"Topic4\", \"Topic4\", \"Topic4\", \"Topic4\", \"Topic4\", \"Topic4\", \"Topic4\", \"Topic4\", \"Topic4\", \"Topic4\", \"Topic4\", \"Topic4\", \"Topic4\", \"Topic4\", \"Topic4\", \"Topic4\", \"Topic4\", \"Topic4\", \"Topic4\", \"Topic4\", \"Topic4\", \"Topic4\", \"Topic4\", \"Topic4\", \"Topic4\", \"Topic4\", \"Topic4\", \"Topic4\", \"Topic4\", \"Topic4\", \"Topic4\", \"Topic4\", \"Topic4\", \"Topic4\", \"Topic4\", \"Topic4\", \"Topic4\", \"Topic4\", \"Topic4\", \"Topic4\", \"Topic4\", \"Topic4\", \"Topic4\", \"Topic5\", \"Topic5\", \"Topic5\", \"Topic5\", \"Topic5\", \"Topic5\", \"Topic5\", \"Topic5\", \"Topic5\", \"Topic5\", \"Topic5\", \"Topic5\", \"Topic5\", \"Topic5\", \"Topic5\", \"Topic5\", \"Topic5\", \"Topic5\", \"Topic5\", \"Topic5\", \"Topic5\", \"Topic5\", \"Topic5\", \"Topic5\", \"Topic5\", \"Topic5\", \"Topic5\", \"Topic5\", \"Topic5\", \"Topic5\", \"Topic5\", \"Topic5\", \"Topic5\", \"Topic5\", \"Topic5\", \"Topic5\", \"Topic5\", \"Topic5\", \"Topic5\", \"Topic5\", \"Topic5\", \"Topic5\", \"Topic5\", \"Topic5\", \"Topic5\", \"Topic5\", \"Topic5\", \"Topic5\", \"Topic5\", \"Topic5\", \"Topic5\", \"Topic5\", \"Topic5\"], \"logprob\": [30.0, 29.0, 28.0, 27.0, 26.0, 25.0, 24.0, 23.0, 22.0, 21.0, 20.0, 19.0, 18.0, 17.0, 16.0, 15.0, 14.0, 13.0, 12.0, 11.0, 10.0, 9.0, 8.0, 7.0, 6.0, 5.0, 4.0, 3.0, 2.0, 1.0, -4.6539, -3.9749, -4.3454, -4.2071, -2.8001, -4.9615, -4.9615, -4.9615, -4.5892, -3.5991, -5.0497, -5.1329, -5.1329, -5.1329, -5.1328, -5.1328, -5.1328, -5.1328, -5.1328, -5.1328, -5.1328, -5.1328, -5.1328, -5.1328, -5.1328, -5.1328, -5.1328, -5.1328, -5.1328, -5.1328, -4.244, -4.2441, -3.1805, -4.5328, -4.1591, -4.5905, -4.6483, -4.6348, -4.6432, -4.6432, -4.6376, -4.0156, -4.4131, -4.4098, -4.4985, -4.643, -4.5288, -4.5288, -4.5288, -4.9282, -4.9282, -4.9283, -4.9349, -4.4106, -4.4106, -4.4695, -4.4691, -4.4691, -5.0253, -5.0253, -5.0253, -5.0253, -5.0253, -5.0253, -5.0253, -5.0253, -5.0253, -5.0253, -5.0253, -5.0253, -5.0253, -5.0253, -5.0254, -5.0254, -5.0254, -5.0254, -5.0254, -5.0254, -5.0254, -5.0254, -5.0253, -5.0253, -5.0253, -3.2019, -3.4163, -4.5122, -4.244, -4.1753, -4.3572, -4.1727, -4.0447, -4.5694, -4.5694, -4.5694, -4.5693, -4.5693, -4.5647, -4.5609, -3.9903, -4.3807, -4.6232, -4.6231, -4.5034, -4.5034, -4.5034, -5.0248, -4.8924, -4.8623, -4.9095, -4.9015, -3.1748, -3.1748, -3.1748, -2.9871, -4.2589, -4.3277, -4.8695, -4.8695, -4.5179, -4.9723, -4.9723, -4.9723, -4.9723, -4.9722, -4.9722, -4.9722, -4.9722, -4.5802, -5.0668, -4.6951, -3.8515, -3.9198, -5.2388, -5.2388, -5.2388, -5.2388, -5.2388, -5.2388, -5.2388, -5.2388, -3.3574, -4.3362, -3.6411, -4.5318, -4.7541, -4.7541, -4.749, -4.749, -4.3596, -4.5118, -4.7488, -4.7542, -4.5871, -4.5871, -4.5878, -4.6968, -4.7993, -4.7993, -4.5224, -5.066, -5.066, -5.066, -5.066, -5.066, -5.066, -5.066, -5.066, -5.066, -5.066, -5.066, -5.066, -5.066, -5.066, -5.066, -5.066, -5.066, -5.066, -5.066, -5.066, -5.066, -5.066, -5.066, -4.1734, -3.1848, -3.4685, -4.5814, -4.5814, -4.3591, -5.066, -5.066, -4.5814, -4.5764, -3.9487, -4.187, -4.3392, -4.3463, -4.343, -4.4317, -4.5818, -4.4618, -4.4618, -4.4618, -4.8508, -4.8614, -4.8614, -4.8546, -4.8547, -4.8501, -4.8207, -4.0248, -4.5742, -4.2525, -4.7862, -4.7862, -4.7862, -4.7862, -4.7863, -4.3948, -4.8819, -3.6642, -5.0532, -5.0532, -5.0532, -5.0532, -5.0532, -5.0532, -5.0532, -5.0532, -4.323, -4.104, -3.2075, -5.5721, -5.5721, -5.5721, -5.5721, -5.5721, -5.5721, -5.5721, -5.5721, -4.8552, -4.8552, -3.7303, -3.3444, -4.8552, -4.5633, -4.8485, -4.8486, -4.5689, -4.5688, -4.3334, -4.3301, -4.1741, -4.4489, -4.4489, -4.4489, -4.8486, -4.8372, -4.8417, -4.8078, -4.8417, -4.8472, -4.8483], \"loglift\": [30.0, 29.0, 28.0, 27.0, 26.0, 25.0, 24.0, 23.0, 22.0, 21.0, 20.0, 19.0, 18.0, 17.0, 16.0, 15.0, 14.0, 13.0, 12.0, 11.0, 10.0, 9.0, 8.0, 7.0, 6.0, 5.0, 4.0, 3.0, 2.0, 1.0, 0.6129, 0.5814, 0.5373, 0.473, 0.4524, 0.4464, 0.4464, 0.4464, 0.4224, 0.397, 0.3959, 0.3504, 0.3504, 0.3504, 0.3504, 0.3504, 0.3504, 0.3504, 0.3504, 0.3504, 0.3504, 0.3504, 0.3504, 0.3504, 0.3504, 0.3504, 0.3503, 0.3503, 0.3502, 0.3502, 0.2365, 0.2343, 0.0434, 0.1845, 0.0609, 0.1473, 0.1394, 0.1161, 0.1143, 0.1142, 0.0993, -0.3584, -0.1959, -0.2143, -0.1611, -0.1613, -0.4847, -0.4847, -0.4847, -0.1505, -0.1505, -0.1533, -0.1264, 0.5413, 0.5413, 0.5176, 0.5165, 0.5163, 0.4377, 0.4377, 0.4377, 0.4377, 0.4377, 0.4377, 0.4377, 0.4377, 0.4377, 0.4377, 0.4377, 0.4377, 0.4377, 0.4377, 0.4377, 0.4377, 0.4377, 0.4377, 0.4377, 0.4377, 0.4377, 0.4377, 0.4374, 0.4374, 0.4374, 0.022, -0.1638, 0.2247, 0.0935, 0.0418, 0.1245, 0.0228, -0.0486, 0.2083, 0.2083, 0.2056, 0.1882, 0.1881, 0.1731, 0.1563, -0.3331, -0.1608, -0.1427, -0.1447, -0.4593, -0.4593, -0.4593, 0.4359, -0.1414, -0.3059, -0.1011, -0.2214, 0.8693, 0.8693, 0.8693, 0.6701, 0.6203, 0.589, 0.5263, 0.5263, 0.4627, 0.461, 0.461, 0.461, 0.461, 0.4602, 0.4602, 0.4602, 0.4602, 0.4252, 0.3962, 0.3694, 0.344, 0.2974, 0.2868, 0.2868, 0.2868, 0.2868, 0.2868, 0.2868, 0.2868, 0.2868, -0.1335, 0.0013, -0.3886, -0.0513, 0.0544, 0.0544, 0.0287, 0.0287, -0.3635, -0.2918, -0.2671, -0.2758, 0.7546, 0.7546, 0.7471, 0.6791, 0.6208, 0.6208, 0.5348, 0.4536, 0.4536, 0.4536, 0.4536, 0.4536, 0.4536, 0.4536, 0.4536, 0.4536, 0.4536, 0.4536, 0.4536, 0.4536, 0.4536, 0.4536, 0.4536, 0.4536, 0.4536, 0.4536, 0.4536, 0.4536, 0.4536, 0.4536, 0.3083, 0.0391, -0.216, 0.2271, 0.2271, 0.1194, 0.4536, 0.4536, 0.2063, 0.1986, -0.2915, -0.1909, -0.1192, -0.1291, -0.1475, -0.0943, -0.1013, -0.4177, -0.4177, -0.4177, -0.0999, -0.0837, -0.0837, -0.1168, -0.1178, -0.1328, -0.2644, 0.9231, 0.8494, 0.7653, 0.6977, 0.6977, 0.6977, 0.6977, 0.6973, 0.6589, 0.6275, 0.5557, 0.5047, 0.5047, 0.5047, 0.5047, 0.5047, 0.5047, 0.5047, 0.5047, 0.428, 0.2335, 0.0164, -0.0466, -0.0466, -0.0466, -0.0466, -0.0466, -0.0466, -0.0466, -0.0466, -0.0467, -0.0467, -0.0731, -0.0919, -0.0675, -0.0816, -0.0708, -0.0708, -0.0884, -0.0904, -0.1162, -0.1346, -0.178, -0.4048, -0.4048, -0.4048, -0.0736, -0.1199, -0.1039, -0.2514, -0.1048, -0.1671, -0.0909]}, \"token.table\": {\"Topic\": [1, 2, 1, 1, 2, 3, 4, 1, 2, 3, 4, 2, 1, 2, 3, 4, 1, 2, 3, 4, 5, 5, 1, 1, 2, 3, 4, 5, 1, 2, 4, 2, 1, 2, 3, 1, 2, 1, 1, 2, 1, 2, 3, 4, 2, 2, 1, 2, 3, 4, 1, 3, 1, 2, 4, 1, 2, 3, 4, 2, 1, 2, 3, 4, 5, 1, 1, 2, 3, 3, 1, 1, 1, 2, 2, 3, 1, 2, 3, 4, 1, 2, 3, 4, 5, 2, 2], \"Freq\": [0.4892810209891599, 0.4892810209891599, 0.45284258536470684, 0.23974546705789432, 0.23974546705789432, 0.47949093411578864, 0.23974546705789432, 0.3214751517253214, 0.3214751517253214, 0.3214751517253214, 0.3214751517253214, 0.6156246600025287, 0.45701553896183134, 0.22850776948091567, 0.22850776948091567, 0.22850776948091567, 0.4345467074092779, 0.21727335370463896, 0.10863667685231948, 0.10863667685231948, 0.10863667685231948, 0.5919296691484259, 0.40014671862783513, 0.2858478187400303, 0.2858478187400303, 0.2858478187400303, 0.2858478187400303, 0.2858478187400303, 0.3713647600127767, 0.3713647600127767, 0.3713647600127767, 0.49928923915876305, 0.47001505462359894, 0.47001505462359894, 0.5737624328288446, 0.48926512856976534, 0.48926512856976534, 0.5545615778532682, 0.4793214495431681, 0.4793214495431681, 0.23974546705789432, 0.23974546705789432, 0.47949093411578864, 0.23974546705789432, 0.6146803886651997, 0.5942989210334382, 0.2850516429211301, 0.2850516429211301, 0.2850516429211301, 0.2850516429211301, 0.6308058670653338, 0.5526198872061091, 0.3701511849216978, 0.3701511849216978, 0.3701511849216978, 0.2789269471249406, 0.2789269471249406, 0.2789269471249406, 0.2789269471249406, 0.4992891159727091, 0.16282428740767288, 0.16282428740767288, 0.32564857481534576, 0.16282428740767288, 0.16282428740767288, 0.8142592673104195, 0.3709211342923773, 0.3709211342923773, 0.3709211342923773, 0.6269534950363593, 0.5043027448476943, 0.48611011316411745, 0.4797563586721789, 0.4797563586721789, 0.6145463454964378, 0.611628558896177, 0.23974546705789432, 0.23974546705789432, 0.47949093411578864, 0.23974546705789432, 0.31671334749138663, 0.2111422316609244, 0.2111422316609244, 0.2111422316609244, 0.1055711158304622, 0.5942989210334382, 0.49795583000986077], \"Term\": [\"ahora\", \"ahora\", \"almacenamiento\", \"altenartiva\", \"altenartiva\", \"altenartiva\", \"altenartiva\", \"aplicaci\\u00f3n\", \"aplicaci\\u00f3n\", \"aplicaci\\u00f3n\", \"aplicaci\\u00f3n\", \"bastante\", \"bateria\", \"bateria\", \"bateria\", \"bateria\", \"buen\", \"buen\", \"buen\", \"buen\", \"buen\", \"bueno\", \"camara\", \"celular\", \"celular\", \"celular\", \"celular\", \"celular\", \"correctamente\", \"correctamente\", \"correctamente\", \"dactilar\", \"dia\", \"dia\", \"digital\", \"duracion\", \"duracion\", \"duro\", \"excelente\", \"excelente\", \"existir\", \"existir\", \"existir\", \"existir\", \"fabuloso\", \"fotografia\", \"funcionar\", \"funcionar\", \"funcionar\", \"funcionar\", \"gb\", \"gusto\", \"hora\", \"hora\", \"hora\", \"huella\", \"huella\", \"huella\", \"huella\", \"lector\", \"mejor\", \"mejor\", \"mejor\", \"mejor\", \"mejor\", \"memoria\", \"pantalla\", \"pantalla\", \"pantalla\", \"perfeccion\", \"poder\", \"ram\", \"rapido\", \"rapido\", \"recomeir\", \"reconocimiento\", \"samsung\", \"samsung\", \"samsung\", \"samsung\", \"telefono\", \"telefono\", \"telefono\", \"telefono\", \"telefono\", \"tomar\", \"vendedor\"]}, \"R\": 30, \"lambda.step\": 0.01, \"plot.opts\": {\"xlab\": \"PC1\", \"ylab\": \"PC2\"}, \"topic.order\": [4, 3, 1, 2, 5]};\n",
       "\n",
       "function LDAvis_load_lib(url, callback){\n",
       "  var s = document.createElement('script');\n",
       "  s.src = url;\n",
       "  s.async = true;\n",
       "  s.onreadystatechange = s.onload = callback;\n",
       "  s.onerror = function(){console.warn(\"failed to load library \" + url);};\n",
       "  document.getElementsByTagName(\"head\")[0].appendChild(s);\n",
       "}\n",
       "\n",
       "if(typeof(LDAvis) !== \"undefined\"){\n",
       "   // already loaded: just create the visualization\n",
       "   !function(LDAvis){\n",
       "       new LDAvis(\"#\" + \"ldavis_el1633617307782583769793344176\", ldavis_el1633617307782583769793344176_data);\n",
       "   }(LDAvis);\n",
       "}else if(typeof define === \"function\" && define.amd){\n",
       "   // require.js is available: use it to load d3/LDAvis\n",
       "   require.config({paths: {d3: \"https://d3js.org/d3.v5\"}});\n",
       "   require([\"d3\"], function(d3){\n",
       "      window.d3 = d3;\n",
       "      LDAvis_load_lib(\"https://cdn.jsdelivr.net/gh/bmabey/pyLDAvis@3.3.1/pyLDAvis/js/ldavis.v3.0.0.js\", function(){\n",
       "        new LDAvis(\"#\" + \"ldavis_el1633617307782583769793344176\", ldavis_el1633617307782583769793344176_data);\n",
       "      });\n",
       "    });\n",
       "}else{\n",
       "    // require.js not available: dynamically load d3 & LDAvis\n",
       "    LDAvis_load_lib(\"https://d3js.org/d3.v5.js\", function(){\n",
       "         LDAvis_load_lib(\"https://cdn.jsdelivr.net/gh/bmabey/pyLDAvis@3.3.1/pyLDAvis/js/ldavis.v3.0.0.js\", function(){\n",
       "                 new LDAvis(\"#\" + \"ldavis_el1633617307782583769793344176\", ldavis_el1633617307782583769793344176_data);\n",
       "            })\n",
       "         });\n",
       "}\n",
       "</script>"
      ],
      "text/plain": [
       "<IPython.core.display.HTML object>"
      ]
     },
     "execution_count": 234,
     "metadata": {},
     "output_type": "execute_result"
    }
   ],
   "source": [
    "import pyLDAvis\n",
    "import pyLDAvis.gensim_models\n",
    "vis = pyLDAvis.gensim_models.prepare(topic_model=lda_model, corpus=corpus, dictionary=diccionario_LDA)\n",
    "pyLDAvis.enable_notebook()\n",
    "pyLDAvis.display(vis)\n"
   ]
  },
  {
   "cell_type": "code",
   "execution_count": 235,
   "id": "5440c558",
   "metadata": {},
   "outputs": [
    {
     "name": "stderr",
     "output_type": "stream",
     "text": [
      "C:\\Users\\vazqu\\anaconda3\\envs\\tesis\\lib\\site-packages\\ipykernel\\ipkernel.py:283: DeprecationWarning: `should_run_async` will not call `transform_cell` automatically in the future. Please pass the result to `transformed_cell` argument and any exception that happen during thetransform in `preprocessing_exc_tuple` in IPython 7.17 and above.\n",
      "  and should_run_async(code)\n"
     ]
    }
   ],
   "source": [
    "import math\n",
    "import pandas as pd\n",
    "def format_topics_sentences(ldamodel, corpus, texts):\n",
    "    # Init output\n",
    "    sent_topics_df = pd.DataFrame()\n",
    "    #ldamode=None\n",
    "    # Get main topic in each document\n",
    "    for i, row_list in enumerate(ldamodel[corpus]):\n",
    "        row = row_list[0] if ldamodel.per_word_topics else row_list  \n",
    "        \n",
    "        # print(row)\n",
    "        row = sorted(row, key=lambda x: (x[1]), reverse=True)\n",
    "        # Get the Dominant topic, Perc Contribution and Keywords for each document\n",
    "        for j, (topic_num, prop_topic) in enumerate(row):\n",
    "            if j == 0:  # => dominant topic\n",
    "                wp = ldamodel.show_topic(topic_num)\n",
    "                topic_keywords = \", \".join([word for word, prop in wp])\n",
    "                d=int(topic_num)\n",
    "                sent_topics_df = sent_topics_df.append(pd.Series([int(format(d, '.0f')), round((prop_topic*100),2), topic_keywords]), ignore_index=True)\n",
    "            else:\n",
    "                break\n",
    "    #sent_topics_df.columns = ['Topico', 'Coherencia ', 'Palabras claves']\n",
    "\n",
    "    # Add original text to the end of the output\n",
    "    contents = pd.Series(texts)\n",
    "    sent_topics_df = pd.concat([sent_topics_df, contents], axis=1)\n",
    "    sent_topics_df.columns = ['topico', 'coherencia', 'palabras claves','comentario']\n",
    "    return(sent_topics_df)"
   ]
  },
  {
   "cell_type": "code",
   "execution_count": 237,
   "id": "fa7b819d",
   "metadata": {},
   "outputs": [
    {
     "name": "stderr",
     "output_type": "stream",
     "text": [
      "C:\\Users\\vazqu\\anaconda3\\envs\\tesis\\lib\\site-packages\\ipykernel\\ipkernel.py:283: DeprecationWarning: `should_run_async` will not call `transform_cell` automatically in the future. Please pass the result to `transformed_cell` argument and any exception that happen during thetransform in `preprocessing_exc_tuple` in IPython 7.17 and above.\n",
      "  and should_run_async(code)\n"
     ]
    }
   ],
   "source": [
    "comen=['Un celular que por el precio realmente ofrece muchas características, recomendado para el uso diario básico ', 'El A70 luce una impresionante pantalla de 6.7 pulgadas; La pantalla es brillante con muy alto contraste y excelente definición. Tiene 128 GB de almacenamiento integrado, un procesador de 8 núcleos, 6 GB de RAM y puede usar una tarjeta micro SD para almacenamiento adicional.', 'El teléfono tiene una batería que dura hasta 104 horas, y mi experiencia hasta ahora es que es increíblemente buena. La mayoría de los teléfonos con muy buena duración de la batería tienen entre 80 y 90 horas, por lo que este viene muy por encima de eso.', 'El A70 tiene reconocimiento facial y un lector de huellas dactilares en pantalla, y ambos funcionan a la perfección. Este teléfono es, con mucho, el mejor teléfono que he tenido. La gente cuestiona la cubierta de plástico frente a una cubierta de aluminio, pero, sinceramente, nunca lo sabrías si no te lo dijeran.', 'Este teléfono no fue desbloqueado correctamente y no pude configurarlo para ponerlo en mi red. Después de aproximadamente 6 horas tratando de resolver el problema, me di por vencido. Xfinity era el operador anterior y me dijeron que no podían desbloquearlo porque no había una cuenta activa. Así que ten cuidado de que es un gran teléfono, pero si el vendedor no lo desbloquea correctamente, enfrentarás un problema muy grave.', 'El teléfono no abre el menú al desplazar para arriba. Los botones de apagado o reinicio no funcionan correctamente. Ni siquiera ha pasado una semana. El lector de huellas dactilares funcionó durante unos días, pero ahora no. Espero que el vendedor corrija esto rápidamente.', 'lo recomiendo mucho, la fluidez me encanto mucho para correr las aplicaciones actuales, super buena y rapida', 'Este teléfono tiene una buena cámara, carga rápida, buen almacenamiento ', 'He usado bastante el teléfono y estoy muy impresionado. Toma fotografías fabulosas. La duración de la batería también parece ser bastante precisa, pero eso depende de lo que esté haciendo.', 'Recomiendo mucho este producto. ¡Es fabuloso!', 'Buen celular con una muy buena cámara', 'Algunas aplicaciones que se instalan no funcionan a la perfección ', 'toma fotografías excelentes', 'el teléfono es de mala calidad pero buen precio ', 'tiene una muy buena bateria, me a durado todo un dia usandolo al maximo', 'no me gusto el reconocimiento de la huella digital, siempre tiene fallos no es su punto fuerte', 'Los juegos que se descarguen funcionan lento no sirve', 'Aveces se cierran sola las aplicaciones y se traba mucho ', 'Celular malo, iPhone es mejor!', 'Resistente a las caídas ', 'El Ram del celular es muy bueno ', 'no reconoce con facilidad la huella digital', 'La batería dura muy poco', 'Buena cámara ', 'Lindo ', 'Comprarás algo que valga ', 'Me gusga muy bueno ', 'No me gustó ', 'Feo ', 'Tiene buena memoria ', 'Existen mejores altenartivas que samsung.']\n",
    "\n",
    "df_topic_sents_keywords = format_topics_sentences(lda_model, corpus, comen)"
   ]
  },
  {
   "cell_type": "code",
   "execution_count": 238,
   "id": "bdcecc3c",
   "metadata": {},
   "outputs": [
    {
     "name": "stderr",
     "output_type": "stream",
     "text": [
      "C:\\Users\\vazqu\\anaconda3\\envs\\tesis\\lib\\site-packages\\ipykernel\\ipkernel.py:283: DeprecationWarning: `should_run_async` will not call `transform_cell` automatically in the future. Please pass the result to `transformed_cell` argument and any exception that happen during thetransform in `preprocessing_exc_tuple` in IPython 7.17 and above.\n",
      "  and should_run_async(code)\n"
     ]
    },
    {
     "data": {
      "image/png": "[encoded data removed]",
      "text/plain": [
       "<Figure size 1008x216 with 5 Axes>"
      ]
     },
     "metadata": {},
     "output_type": "display_data"
    }
   ],
   "source": [
    "from matplotlib import pyplot as plt\n",
    "from wordcloud import WordCloud, STOPWORDS\n",
    "import matplotlib.colors as mcolors\n",
    "\n",
    "cols = [color for name, color in mcolors.XKCD_COLORS.items()]  # mas colores: 'mcolors.XKCD_COLORS'      mcolors.TABLEAU_COLORS\n",
    "cloud = WordCloud(stopwords=leman,\n",
    "                  background_color='white',\n",
    "                  width=500,\n",
    "                  height=400,\n",
    "                  max_words=15,\n",
    "                  colormap='tab10',\n",
    "                  color_func=lambda *args, **kwargs: cols[random.randint(0, 500)], # cols[i]\n",
    "                  prefer_horizontal=1.0)\n",
    "\n",
    "topics = lda_model.show_topics(formatted=False)\n",
    "\n",
    "import random\n",
    "fig, axes = plt.subplots(1, num_topics, figsize=(10,10), sharex=True, sharey=True)\n",
    "randomicos=[]\n",
    "for i, ax in enumerate(axes.flatten()):\n",
    "    fig.add_subplot(ax)\n",
    "    topic_words = dict(topics[i][1])\n",
    "    cloud.generate_from_frequencies(topic_words, max_font_size=250\n",
    "                                   )\n",
    "    plt.gca().imshow(cloud)\n",
    "    plt.gca().set_title('Topic ' + str(i), fontdict=dict(size=16))\n",
    "    plt.gca().axis('off')\n",
    "\n",
    "plt.subplots_adjust(wspace=0, hspace=0)\n",
    "plt.axis('off')\n",
    "plt.margins(x=0, y=0)\n",
    "plt.tight_layout()\n",
    "fig.patch.set_facecolor('xkcd:white')\n",
    "if num_topics >4 and num_topics <=6:\n",
    "    fig.set_figwidth(14)\n",
    "    fig.set_figheight(3)\n",
    "elif num_topics <=4:\n",
    "    fig.set_figwidth(12)\n",
    "    fig.set_figheight(4)\n",
    "elif num_topics >=7 and num_topics <=10:\n",
    "    fig.set_figwidth(16)\n",
    "    fig.set_figheight(3)\n",
    "elif num_topics >=10 and num_topics <=15:\n",
    "    fig.set_figwidth(18)\n",
    "    fig.set_figheight(4)\n",
    "plt.show()\n",
    "fig.savefig('C://xampp//htdocs//tesis//imagenTopics//topics_6_36.png')"
   ]
  },
  {
   "cell_type": "code",
   "execution_count": 255,
   "id": "c8ccabae",
   "metadata": {},
   "outputs": [
    {
     "name": "stderr",
     "output_type": "stream",
     "text": [
      "C:\\Users\\vazqu\\anaconda3\\envs\\tesis\\lib\\site-packages\\ipykernel\\ipkernel.py:283: DeprecationWarning: `should_run_async` will not call `transform_cell` automatically in the future. Please pass the result to `transformed_cell` argument and any exception that happen during thetransform in `preprocessing_exc_tuple` in IPython 7.17 and above.\n",
      "  and should_run_async(code)\n"
     ]
    },
    {
     "name": "stdout",
     "output_type": "stream",
     "text": [
      "[t-SNE] Computing 30 nearest neighbors...\n",
      "[t-SNE] Indexed 31 samples in 0.001s...\n",
      "[t-SNE] Computed neighbors for 31 samples in 0.007s...\n",
      "[t-SNE] Computed conditional probabilities for sample 31 / 31\n",
      "[t-SNE] Mean sigma: 12.726319\n",
      "[t-SNE] Computed conditional probabilities in 0.004s\n",
      "[t-SNE] Iteration 50: error = 1440.0374756, gradient norm = 0.4489758 (50 iterations in 0.088s)\n",
      "[t-SNE] Iteration 100: error = 1392.6478271, gradient norm = 0.8574784 (50 iterations in 0.077s)\n",
      "[t-SNE] Iteration 150: error = 1487.3001709, gradient norm = 0.8100132 (50 iterations in 0.070s)\n",
      "[t-SNE] Iteration 200: error = 1517.9602051, gradient norm = 1.4017179 (50 iterations in 0.075s)\n",
      "[t-SNE] Iteration 250: error = 1330.8197021, gradient norm = 0.6552903 (50 iterations in 0.067s)\n",
      "[t-SNE] KL divergence after 250 iterations with early exaggeration: 1330.819702\n",
      "[t-SNE] KL divergence after 280 iterations: 2.431047\n"
     ]
    },
    {
     "name": "stderr",
     "output_type": "stream",
     "text": [
      "BokehDeprecationWarning: 'legend' keyword is deprecated, use explicit 'legend_label', 'legend_field', or 'legend_group' keywords instead\n"
     ]
    }
   ],
   "source": [
    "from sklearn.manifold import TSNE\n",
    "from bokeh.plotting import figure, output_file, show,save\n",
    "from bokeh.plotting import  output_file as out_boken\n",
    "from bokeh.models import Label\n",
    "from bokeh.io import output_notebook\n",
    "import numpy as np\n",
    "\n",
    "# obtener los pesos de los Topicos \n",
    "topics_coments = df_topic_sents_keywords\n",
    "topic_weights = []\n",
    "for i, row_list in enumerate(lda_model[corpus]):\n",
    "    topic_weights.append([w for i, w in row_list[0]])\n",
    "            \n",
    "    # array de los pesos de los Topicos \n",
    "arr = pd.DataFrame(topic_weights).fillna(0).values\n",
    "\n",
    "        # mantener los puntos separados \n",
    "        #arr = arr[np.amax(arr, axis=1) > 0.35]\n",
    "\n",
    "        # topico dominante en cada documento \n",
    "topic_num = np.argmax(arr, axis=1)\n",
    "tsne_model = TSNE(n_components=2, verbose=2, random_state=2050, perplexity=30, early_exaggeration=120, n_iter=280, angle=.99, init='pca')\n",
    "tsne_lda = tsne_model.fit_transform(arr) \n",
    "        \n",
    "    \n",
    "topics_coments['x'] = tsne_lda[:,0]\n",
    "topics_coments['y'] = tsne_lda[:,1]\n",
    "\n",
    "\n",
    "topics_coments['x'] = tsne_lda[:,0]\n",
    "topics_coments['y'] = tsne_lda[:,1]\n",
    "cluster_colors = {0: 'blue', 1: 'green', 2: 'yellow', 3: 'red', 4: 'skyblue', 5:'salmon', 6:'orange', 7:'maroon', 8:'crimson', 9:'black', 10:'gray',11:'coral',12:'cyan',13:'violet',14:'orange'}\n",
    "topics_coments['colors'] = topics_coments['topico'].apply(lambda l: cluster_colors[l])\n",
    "top_labels = {0: 'Topico 1', 1:'Topico 2', 2:'Topico 3', 3:'Topico 4', 4:'Topico 5',5:'Topico 6',6:'Topico 7',7:'Topico 8', 8:'Topico 9',9:'Topico 9',10:'Topico 10',11:'Topico 11',12:'Topico 12',13:'Topico 13',14:'Topico 14'}\n",
    "\n",
    "topics_coments\n",
    "\n",
    "\n",
    "from bokeh.palettes import all_palettes\n",
    "from bokeh.models import HoverTool, CustomJS, Slider\n",
    "from bokeh.models import ColumnDataSource, HoverTool\n",
    "\n",
    "topics_coments['topico']= topics_coments['topico'].astype(np.int64)\n",
    "\n",
    "source = ColumnDataSource(data=dict(\n",
    "                                    x = topics_coments.x, \n",
    "                                    y = topics_coments.y, \n",
    "                                    colors = [all_palettes['Set1'][num_topics+1][i] for i in topics_coments.topico],\n",
    "                                    title=topics_coments.comentario,\n",
    "                                    alpha = [0.9] * topics_coments.shape[0],\n",
    "                                    size = [7] * topics_coments.shape[0]\n",
    "                                    ))\n",
    "source = ColumnDataSource(dict(\n",
    "                x = topics_coments['x'],\n",
    "                y = topics_coments['y'],\n",
    "                color = topics_coments['colors'],\n",
    "                label  = topics_coments['topico'].apply(lambda l: top_labels[l]),\n",
    "                #topic_key = embedding['hue'],\n",
    "                content = topics_coments['comentario']\n",
    "            ))\n",
    "        \n",
    "title = 'TSNE ITERACTIVO'\n",
    "plot_lda = figure(plot_width = 1000, plot_height = 600,\n",
    "                 title= title, tools=\"pan,wheel_zoom,box_zoom,reset,hover\",\n",
    "                  x_axis_type=None, y_axis_type=None, min_border=1\n",
    "                 )\n",
    "plot_lda.scatter(x='x', y='y', legend='label', source=source,\n",
    "                 color='color', alpha=0.7, size=10)\n",
    "        \n",
    "hover = plot_lda.select(dict(type= HoverTool))\n",
    "hover.tooltips = {\"Comentario\":\"@content\",\"Topico\":\"@label\"}\n",
    "plot_lda.legend.location ='top_left'\n",
    "output_file('itera46.html')\n",
    "show(plot_lda)\n",
    "#show(plot_lda)\n"
   ]
  },
  {
   "cell_type": "code",
   "execution_count": 163,
   "id": "648e09d5",
   "metadata": {
    "scrolled": false
   },
   "outputs": [
    {
     "name": "stderr",
     "output_type": "stream",
     "text": [
      "C:\\Users\\vazqu\\anaconda3\\envs\\tesis\\lib\\site-packages\\ipykernel\\ipkernel.py:283: DeprecationWarning: `should_run_async` will not call `transform_cell` automatically in the future. Please pass the result to `transformed_cell` argument and any exception that happen during thetransform in `preprocessing_exc_tuple` in IPython 7.17 and above.\n",
      "  and should_run_async(code)\n"
     ]
    },
    {
     "data": {
      "text/html": [
       "<div>\n",
       "<style scoped>\n",
       "    .dataframe tbody tr th:only-of-type {\n",
       "        vertical-align: middle;\n",
       "    }\n",
       "\n",
       "    .dataframe tbody tr th {\n",
       "        vertical-align: top;\n",
       "    }\n",
       "\n",
       "    .dataframe thead th {\n",
       "        text-align: right;\n",
       "    }\n",
       "</style>\n",
       "<table border=\"1\" class=\"dataframe\">\n",
       "  <thead>\n",
       "    <tr style=\"text-align: right;\">\n",
       "      <th></th>\n",
       "      <th>topico</th>\n",
       "      <th>coherencia</th>\n",
       "      <th>palabras claves</th>\n",
       "      <th>comentario</th>\n",
       "      <th>x</th>\n",
       "      <th>y</th>\n",
       "      <th>colors</th>\n",
       "    </tr>\n",
       "  </thead>\n",
       "  <tbody>\n",
       "    <tr>\n",
       "      <th>1</th>\n",
       "      <td>1</td>\n",
       "      <td>96.87</td>\n",
       "      <td>buen, telefono, mejor, bateria, funcionar, exi...</td>\n",
       "      <td>El A70 luce una impresionante pantalla de 6.7 ...</td>\n",
       "      <td>257.478363</td>\n",
       "      <td>-1214.235229</td>\n",
       "      <td>green</td>\n",
       "    </tr>\n",
       "    <tr>\n",
       "      <th>4</th>\n",
       "      <td>1</td>\n",
       "      <td>97.87</td>\n",
       "      <td>buen, telefono, mejor, bateria, funcionar, exi...</td>\n",
       "      <td>Este teléfono no fue desbloqueado correctament...</td>\n",
       "      <td>320.895233</td>\n",
       "      <td>-1188.234131</td>\n",
       "      <td>green</td>\n",
       "    </tr>\n",
       "    <tr>\n",
       "      <th>16</th>\n",
       "      <td>1</td>\n",
       "      <td>87.08</td>\n",
       "      <td>buen, telefono, mejor, bateria, funcionar, exi...</td>\n",
       "      <td>Los juegos que se descarguen funcionan lento n...</td>\n",
       "      <td>231.425903</td>\n",
       "      <td>-1132.823364</td>\n",
       "      <td>green</td>\n",
       "    </tr>\n",
       "    <tr>\n",
       "      <th>19</th>\n",
       "      <td>1</td>\n",
       "      <td>74.23</td>\n",
       "      <td>buen, telefono, mejor, bateria, funcionar, exi...</td>\n",
       "      <td>Resistente a las caídas</td>\n",
       "      <td>392.886505</td>\n",
       "      <td>-1185.447266</td>\n",
       "      <td>green</td>\n",
       "    </tr>\n",
       "    <tr>\n",
       "      <th>20</th>\n",
       "      <td>1</td>\n",
       "      <td>80.31</td>\n",
       "      <td>buen, telefono, mejor, bateria, funcionar, exi...</td>\n",
       "      <td>El Ram del celular es muy bueno</td>\n",
       "      <td>410.901733</td>\n",
       "      <td>-1250.551270</td>\n",
       "      <td>green</td>\n",
       "    </tr>\n",
       "    <tr>\n",
       "      <th>24</th>\n",
       "      <td>1</td>\n",
       "      <td>60.50</td>\n",
       "      <td>buen, telefono, mejor, bateria, funcionar, exi...</td>\n",
       "      <td>Lindo</td>\n",
       "      <td>428.073853</td>\n",
       "      <td>-1096.829590</td>\n",
       "      <td>green</td>\n",
       "    </tr>\n",
       "    <tr>\n",
       "      <th>25</th>\n",
       "      <td>1</td>\n",
       "      <td>74.83</td>\n",
       "      <td>buen, telefono, mejor, bateria, funcionar, exi...</td>\n",
       "      <td>Comprarás algo que valga</td>\n",
       "      <td>294.882019</td>\n",
       "      <td>-1016.360229</td>\n",
       "      <td>green</td>\n",
       "    </tr>\n",
       "    <tr>\n",
       "      <th>26</th>\n",
       "      <td>1</td>\n",
       "      <td>74.81</td>\n",
       "      <td>buen, telefono, mejor, bateria, funcionar, exi...</td>\n",
       "      <td>Me gusga muy bueno</td>\n",
       "      <td>294.617676</td>\n",
       "      <td>-1081.062256</td>\n",
       "      <td>green</td>\n",
       "    </tr>\n",
       "    <tr>\n",
       "      <th>28</th>\n",
       "      <td>1</td>\n",
       "      <td>61.02</td>\n",
       "      <td>buen, telefono, mejor, bateria, funcionar, exi...</td>\n",
       "      <td>Feo</td>\n",
       "      <td>351.270477</td>\n",
       "      <td>-1115.640747</td>\n",
       "      <td>green</td>\n",
       "    </tr>\n",
       "  </tbody>\n",
       "</table>\n",
       "</div>"
      ],
      "text/plain": [
       "    topico  coherencia                                    palabras claves  \\\n",
       "1        1       96.87  buen, telefono, mejor, bateria, funcionar, exi...   \n",
       "4        1       97.87  buen, telefono, mejor, bateria, funcionar, exi...   \n",
       "16       1       87.08  buen, telefono, mejor, bateria, funcionar, exi...   \n",
       "19       1       74.23  buen, telefono, mejor, bateria, funcionar, exi...   \n",
       "20       1       80.31  buen, telefono, mejor, bateria, funcionar, exi...   \n",
       "24       1       60.50  buen, telefono, mejor, bateria, funcionar, exi...   \n",
       "25       1       74.83  buen, telefono, mejor, bateria, funcionar, exi...   \n",
       "26       1       74.81  buen, telefono, mejor, bateria, funcionar, exi...   \n",
       "28       1       61.02  buen, telefono, mejor, bateria, funcionar, exi...   \n",
       "\n",
       "                                           comentario           x  \\\n",
       "1   El A70 luce una impresionante pantalla de 6.7 ...  257.478363   \n",
       "4   Este teléfono no fue desbloqueado correctament...  320.895233   \n",
       "16  Los juegos que se descarguen funcionan lento n...  231.425903   \n",
       "19                           Resistente a las caídas   392.886505   \n",
       "20                   El Ram del celular es muy bueno   410.901733   \n",
       "24                                             Lindo   428.073853   \n",
       "25                          Comprarás algo que valga   294.882019   \n",
       "26                                Me gusga muy bueno   294.617676   \n",
       "28                                               Feo   351.270477   \n",
       "\n",
       "              y colors  \n",
       "1  -1214.235229  green  \n",
       "4  -1188.234131  green  \n",
       "16 -1132.823364  green  \n",
       "19 -1185.447266  green  \n",
       "20 -1250.551270  green  \n",
       "24 -1096.829590  green  \n",
       "25 -1016.360229  green  \n",
       "26 -1081.062256  green  \n",
       "28 -1115.640747  green  "
      ]
     },
     "execution_count": 163,
     "metadata": {},
     "output_type": "execute_result"
    }
   ],
   "source": [
    "df_topic_sents_keywords[df_topic_sents_keywords['topico'].isin([1])] "
   ]
  },
  {
   "cell_type": "code",
   "execution_count": 164,
   "id": "0832b08f",
   "metadata": {},
   "outputs": [
    {
     "name": "stderr",
     "output_type": "stream",
     "text": [
      "C:\\Users\\vazqu\\anaconda3\\envs\\tesis\\lib\\site-packages\\ipykernel\\ipkernel.py:283: DeprecationWarning: `should_run_async` will not call `transform_cell` automatically in the future. Please pass the result to `transformed_cell` argument and any exception that happen during thetransform in `preprocessing_exc_tuple` in IPython 7.17 and above.\n",
      "  and should_run_async(code)\n"
     ]
    }
   ],
   "source": [
    "def compute_coherence_values(dictionary, corpus, texts, limit, start=2, step=3):\n",
    "    \"\"\"\n",
    "    Compute c_v coherence for various number of topics\n",
    "\n",
    "    Parameters:\n",
    "    ----------\n",
    "    dictionary : Gensim dictionary\n",
    "    corpus : Gensim corpus\n",
    "    texts : List of input texts\n",
    "    limit : Max num of topics\n",
    "\n",
    "    Returns:\n",
    "    -------\n",
    "    model_list : List of LDA topic models\n",
    "    coherence_values : Coherence values corresponding to the LDA model with respective number of topics\n",
    "    \"\"\"\n",
    "    coherence_values = []\n",
    "    model_list = []\n",
    "    for num_topics in range(start, limit, step):\n",
    "        model = gensim.models.wrappers.LdaMallet(mallet_path, corpus=corpus, num_topics=num_topics, id2word=id2word)\n",
    "        model_list.append(model)\n",
    "        coherencemodel = CoherenceModel(model=model, texts=texts, dictionary=dictionary, coherence='c_v')\n",
    "        coherence_values.append(coherencemodel.get_coherence())\n",
    "\n",
    "    return model_list, coherence_values"
   ]
  },
  {
   "cell_type": "code",
   "execution_count": null,
   "id": "594637a8",
   "metadata": {},
   "outputs": [],
   "source": [
    "def colorIteractivo(num_topicos):\n",
    "    cont = 0\n",
    "    color = {}\n",
    "    for i in range(num_topicos):\n",
    "        #color[cont]=list(np.random.choice(range(256), size=3))\n",
    "        color[cont] = \"#\"+''.join([random.choice('0123456789ABCDEF') for j in range(6)])\n",
    "        cont +=1\n",
    "    return color \n",
    "\n",
    "colorIteractivo(5)"
   ]
  },
  {
   "cell_type": "code",
   "execution_count": 131,
   "id": "947c6f39",
   "metadata": {},
   "outputs": [
    {
     "name": "stderr",
     "output_type": "stream",
     "text": [
      "C:\\Users\\vazqu\\anaconda3\\envs\\tesis\\lib\\site-packages\\ipykernel\\ipkernel.py:283: DeprecationWarning: `should_run_async` will not call `transform_cell` automatically in the future. Please pass the result to `transformed_cell` argument and any exception that happen during thetransform in `preprocessing_exc_tuple` in IPython 7.17 and above.\n",
      "  and should_run_async(code)\n"
     ]
    },
    {
     "data": {
      "text/plain": [
       "31"
      ]
     },
     "execution_count": 131,
     "metadata": {},
     "output_type": "execute_result"
    }
   ],
   "source": [
    "len(corpus)"
   ]
  },
  {
   "cell_type": "code",
   "execution_count": 64,
   "id": "07115339",
   "metadata": {},
   "outputs": [
    {
     "name": "stderr",
     "output_type": "stream",
     "text": [
      "C:\\Users\\vazqu\\anaconda3\\envs\\tesis\\lib\\site-packages\\ipykernel\\ipkernel.py:283: DeprecationWarning: `should_run_async` will not call `transform_cell` automatically in the future. Please pass the result to `transformed_cell` argument and any exception that happen during thetransform in `preprocessing_exc_tuple` in IPython 7.17 and above.\n",
      "  and should_run_async(code)\n"
     ]
    },
    {
     "data": {
      "text/html": [
       "<div>\n",
       "<style scoped>\n",
       "    .dataframe tbody tr th:only-of-type {\n",
       "        vertical-align: middle;\n",
       "    }\n",
       "\n",
       "    .dataframe tbody tr th {\n",
       "        vertical-align: top;\n",
       "    }\n",
       "\n",
       "    .dataframe thead th {\n",
       "        text-align: right;\n",
       "    }\n",
       "</style>\n",
       "<table border=\"1\" class=\"dataframe\">\n",
       "  <thead>\n",
       "    <tr style=\"text-align: right;\">\n",
       "      <th></th>\n",
       "      <th>topico</th>\n",
       "      <th>coherencia</th>\n",
       "      <th>palabras claves</th>\n",
       "      <th>comentario</th>\n",
       "    </tr>\n",
       "  </thead>\n",
       "  <tbody>\n",
       "    <tr>\n",
       "      <th>0</th>\n",
       "      <td>3.0</td>\n",
       "      <td>71.51</td>\n",
       "      <td>diosito, lasso, robar, si, ayudar, leon, teres...</td>\n",
       "      <td>El poder de don dinero es evidente en la justi...</td>\n",
       "    </tr>\n",
       "    <tr>\n",
       "      <th>1</th>\n",
       "      <td>3.0</td>\n",
       "      <td>93.08</td>\n",
       "      <td>diosito, lasso, robar, si, ayudar, leon, teres...</td>\n",
       "      <td>Así como vamos se debe reescribir la historia....</td>\n",
       "    </tr>\n",
       "    <tr>\n",
       "      <th>2</th>\n",
       "      <td>3.0</td>\n",
       "      <td>86.60</td>\n",
       "      <td>bien, leyo, jose, jenny, ordoñez, leer, si, mu...</td>\n",
       "      <td>Apoyo total a la Fiscal Diana Salazar.</td>\n",
       "    </tr>\n",
       "    <tr>\n",
       "      <th>3</th>\n",
       "      <td>3.0</td>\n",
       "      <td>91.04</td>\n",
       "      <td>ilegal, ahora, hacer, pagar, tocar, rafael, in...</td>\n",
       "      <td>Alguien sabe cuántos años tiene este proceso j...</td>\n",
       "    </tr>\n",
       "    <tr>\n",
       "      <th>4</th>\n",
       "      <td>3.0</td>\n",
       "      <td>65.30</td>\n",
       "      <td>alejandro, david, fabian, calderon, correistar...</td>\n",
       "      <td>La Fiscal se merece otro reconocimiento por su...</td>\n",
       "    </tr>\n",
       "    <tr>\n",
       "      <th>...</th>\n",
       "      <td>...</td>\n",
       "      <td>...</td>\n",
       "      <td>...</td>\n",
       "      <td>...</td>\n",
       "    </tr>\n",
       "    <tr>\n",
       "      <th>279</th>\n",
       "      <td>3.0</td>\n",
       "      <td>73.33</td>\n",
       "      <td>justicia, libre, juez, mano, ladrón, lasso, co...</td>\n",
       "      <td>Leonardo Zúñiga</td>\n",
       "    </tr>\n",
       "    <tr>\n",
       "      <th>280</th>\n",
       "      <td>3.0</td>\n",
       "      <td>84.00</td>\n",
       "      <td>alejandro, david, fabian, calderon, correistar...</td>\n",
       "      <td>Xavier Cruz Preguntale a un correista...</td>\n",
       "    </tr>\n",
       "    <tr>\n",
       "      <th>281</th>\n",
       "      <td>3.0</td>\n",
       "      <td>84.00</td>\n",
       "      <td>diosito, lasso, robar, si, ayudar, leon, teres...</td>\n",
       "      <td>Teresa Leon ayudar a robar</td>\n",
       "    </tr>\n",
       "    <tr>\n",
       "      <th>282</th>\n",
       "      <td>3.0</td>\n",
       "      <td>97.03</td>\n",
       "      <td>ilegal, ahora, hacer, pagar, tocar, rafael, in...</td>\n",
       "      <td>Ricardo Ochoa otro IGNORANTE, señor, a mi no m...</td>\n",
       "    </tr>\n",
       "    <tr>\n",
       "      <th>283</th>\n",
       "      <td>3.0</td>\n",
       "      <td>95.99</td>\n",
       "      <td>justicia, libre, juez, mano, ladrón, lasso, co...</td>\n",
       "      <td>Ricardo Ochoa el presidente no interfiere en l...</td>\n",
       "    </tr>\n",
       "  </tbody>\n",
       "</table>\n",
       "<p>284 rows × 4 columns</p>\n",
       "</div>"
      ],
      "text/plain": [
       "     topico  coherencia                                    palabras claves  \\\n",
       "0       3.0       71.51  diosito, lasso, robar, si, ayudar, leon, teres...   \n",
       "1       3.0       93.08  diosito, lasso, robar, si, ayudar, leon, teres...   \n",
       "2       3.0       86.60  bien, leyo, jose, jenny, ordoñez, leer, si, mu...   \n",
       "3       3.0       91.04  ilegal, ahora, hacer, pagar, tocar, rafael, in...   \n",
       "4       3.0       65.30  alejandro, david, fabian, calderon, correistar...   \n",
       "..      ...         ...                                                ...   \n",
       "279     3.0       73.33  justicia, libre, juez, mano, ladrón, lasso, co...   \n",
       "280     3.0       84.00  alejandro, david, fabian, calderon, correistar...   \n",
       "281     3.0       84.00  diosito, lasso, robar, si, ayudar, leon, teres...   \n",
       "282     3.0       97.03  ilegal, ahora, hacer, pagar, tocar, rafael, in...   \n",
       "283     3.0       95.99  justicia, libre, juez, mano, ladrón, lasso, co...   \n",
       "\n",
       "                                            comentario  \n",
       "0    El poder de don dinero es evidente en la justi...  \n",
       "1    Así como vamos se debe reescribir la historia....  \n",
       "2               Apoyo total a la Fiscal Diana Salazar.  \n",
       "3    Alguien sabe cuántos años tiene este proceso j...  \n",
       "4    La Fiscal se merece otro reconocimiento por su...  \n",
       "..                                                 ...  \n",
       "279                                   Leonardo Zúñiga   \n",
       "280           Xavier Cruz Preguntale a un correista...  \n",
       "281                        Teresa Leon ayudar a robar   \n",
       "282  Ricardo Ochoa otro IGNORANTE, señor, a mi no m...  \n",
       "283  Ricardo Ochoa el presidente no interfiere en l...  \n",
       "\n",
       "[284 rows x 4 columns]"
      ]
     },
     "execution_count": 64,
     "metadata": {},
     "output_type": "execute_result"
    }
   ],
   "source": [
    "df_topic_sents_keywords"
   ]
  },
  {
   "cell_type": "code",
   "execution_count": 66,
   "id": "e83277ea",
   "metadata": {},
   "outputs": [
    {
     "name": "stderr",
     "output_type": "stream",
     "text": [
      "C:\\Users\\vazqu\\anaconda3\\envs\\tesis\\lib\\site-packages\\ipykernel\\ipkernel.py:283: DeprecationWarning: `should_run_async` will not call `transform_cell` automatically in the future. Please pass the result to `transformed_cell` argument and any exception that happen during thetransform in `preprocessing_exc_tuple` in IPython 7.17 and above.\n",
      "  and should_run_async(code)\n"
     ]
    },
    {
     "data": {
      "text/html": [
       "<div>\n",
       "<style scoped>\n",
       "    .dataframe tbody tr th:only-of-type {\n",
       "        vertical-align: middle;\n",
       "    }\n",
       "\n",
       "    .dataframe tbody tr th {\n",
       "        vertical-align: top;\n",
       "    }\n",
       "\n",
       "    .dataframe thead th {\n",
       "        text-align: right;\n",
       "    }\n",
       "</style>\n",
       "<table border=\"1\" class=\"dataframe\">\n",
       "  <thead>\n",
       "    <tr style=\"text-align: right;\">\n",
       "      <th></th>\n",
       "      <th>topico</th>\n",
       "      <th>coherencia</th>\n",
       "      <th>palabras claves</th>\n",
       "      <th>comentario</th>\n",
       "    </tr>\n",
       "  </thead>\n",
       "  <tbody>\n",
       "    <tr>\n",
       "      <th>0</th>\n",
       "      <td>3.0</td>\n",
       "      <td>71.51</td>\n",
       "      <td>diosito, lasso, robar, si, ayudar, leon, teres...</td>\n",
       "      <td>El poder de don dinero es evidente en la justi...</td>\n",
       "    </tr>\n",
       "    <tr>\n",
       "      <th>1</th>\n",
       "      <td>3.0</td>\n",
       "      <td>93.09</td>\n",
       "      <td>diosito, lasso, robar, si, ayudar, leon, teres...</td>\n",
       "      <td>Así como vamos se debe reescribir la historia....</td>\n",
       "    </tr>\n",
       "    <tr>\n",
       "      <th>2</th>\n",
       "      <td>1.0</td>\n",
       "      <td>86.60</td>\n",
       "      <td>bien, leyo, jose, jenny, ordoñez, leer, si, mu...</td>\n",
       "      <td>Apoyo total a la Fiscal Diana Salazar.</td>\n",
       "    </tr>\n",
       "    <tr>\n",
       "      <th>3</th>\n",
       "      <td>0.0</td>\n",
       "      <td>91.04</td>\n",
       "      <td>ilegal, ahora, hacer, pagar, tocar, rafael, in...</td>\n",
       "      <td>Alguien sabe cuántos años tiene este proceso j...</td>\n",
       "    </tr>\n",
       "    <tr>\n",
       "      <th>4</th>\n",
       "      <td>4.0</td>\n",
       "      <td>65.30</td>\n",
       "      <td>alejandro, david, fabian, calderon, correistar...</td>\n",
       "      <td>La Fiscal se merece otro reconocimiento por su...</td>\n",
       "    </tr>\n",
       "    <tr>\n",
       "      <th>...</th>\n",
       "      <td>...</td>\n",
       "      <td>...</td>\n",
       "      <td>...</td>\n",
       "      <td>...</td>\n",
       "    </tr>\n",
       "    <tr>\n",
       "      <th>279</th>\n",
       "      <td>2.0</td>\n",
       "      <td>73.33</td>\n",
       "      <td>justicia, libre, juez, mano, ladrón, lasso, co...</td>\n",
       "      <td>Leonardo Zúñiga</td>\n",
       "    </tr>\n",
       "    <tr>\n",
       "      <th>280</th>\n",
       "      <td>4.0</td>\n",
       "      <td>84.00</td>\n",
       "      <td>alejandro, david, fabian, calderon, correistar...</td>\n",
       "      <td>Xavier Cruz Preguntale a un correista...</td>\n",
       "    </tr>\n",
       "    <tr>\n",
       "      <th>281</th>\n",
       "      <td>3.0</td>\n",
       "      <td>84.00</td>\n",
       "      <td>diosito, lasso, robar, si, ayudar, leon, teres...</td>\n",
       "      <td>Teresa Leon ayudar a robar</td>\n",
       "    </tr>\n",
       "    <tr>\n",
       "      <th>282</th>\n",
       "      <td>0.0</td>\n",
       "      <td>97.03</td>\n",
       "      <td>ilegal, ahora, hacer, pagar, tocar, rafael, in...</td>\n",
       "      <td>Ricardo Ochoa otro IGNORANTE, señor, a mi no m...</td>\n",
       "    </tr>\n",
       "    <tr>\n",
       "      <th>283</th>\n",
       "      <td>2.0</td>\n",
       "      <td>95.99</td>\n",
       "      <td>justicia, libre, juez, mano, ladrón, lasso, co...</td>\n",
       "      <td>Ricardo Ochoa el presidente no interfiere en l...</td>\n",
       "    </tr>\n",
       "  </tbody>\n",
       "</table>\n",
       "<p>284 rows × 4 columns</p>\n",
       "</div>"
      ],
      "text/plain": [
       "     topico  coherencia                                    palabras claves  \\\n",
       "0       3.0       71.51  diosito, lasso, robar, si, ayudar, leon, teres...   \n",
       "1       3.0       93.09  diosito, lasso, robar, si, ayudar, leon, teres...   \n",
       "2       1.0       86.60  bien, leyo, jose, jenny, ordoñez, leer, si, mu...   \n",
       "3       0.0       91.04  ilegal, ahora, hacer, pagar, tocar, rafael, in...   \n",
       "4       4.0       65.30  alejandro, david, fabian, calderon, correistar...   \n",
       "..      ...         ...                                                ...   \n",
       "279     2.0       73.33  justicia, libre, juez, mano, ladrón, lasso, co...   \n",
       "280     4.0       84.00  alejandro, david, fabian, calderon, correistar...   \n",
       "281     3.0       84.00  diosito, lasso, robar, si, ayudar, leon, teres...   \n",
       "282     0.0       97.03  ilegal, ahora, hacer, pagar, tocar, rafael, in...   \n",
       "283     2.0       95.99  justicia, libre, juez, mano, ladrón, lasso, co...   \n",
       "\n",
       "                                            comentario  \n",
       "0    El poder de don dinero es evidente en la justi...  \n",
       "1    Así como vamos se debe reescribir la historia....  \n",
       "2               Apoyo total a la Fiscal Diana Salazar.  \n",
       "3    Alguien sabe cuántos años tiene este proceso j...  \n",
       "4    La Fiscal se merece otro reconocimiento por su...  \n",
       "..                                                 ...  \n",
       "279                                   Leonardo Zúñiga   \n",
       "280           Xavier Cruz Preguntale a un correista...  \n",
       "281                        Teresa Leon ayudar a robar   \n",
       "282  Ricardo Ochoa otro IGNORANTE, señor, a mi no m...  \n",
       "283  Ricardo Ochoa el presidente no interfiere en l...  \n",
       "\n",
       "[284 rows x 4 columns]"
      ]
     },
     "execution_count": 66,
     "metadata": {},
     "output_type": "execute_result"
    }
   ],
   "source": [
    "cp = df_topic_sents_keywords\n",
    "cp"
   ]
  },
  {
   "cell_type": "code",
   "execution_count": 67,
   "id": "81d6f5e7",
   "metadata": {},
   "outputs": [
    {
     "name": "stderr",
     "output_type": "stream",
     "text": [
      "C:\\Users\\vazqu\\anaconda3\\envs\\tesis\\lib\\site-packages\\ipykernel\\ipkernel.py:283: DeprecationWarning: `should_run_async` will not call `transform_cell` automatically in the future. Please pass the result to `transformed_cell` argument and any exception that happen during thetransform in `preprocessing_exc_tuple` in IPython 7.17 and above.\n",
      "  and should_run_async(code)\n"
     ]
    }
   ],
   "source": [
    "cp['topico'] = [i+1 for i in cp['topico']]"
   ]
  },
  {
   "cell_type": "code",
   "execution_count": 68,
   "id": "a53e14cc",
   "metadata": {},
   "outputs": [
    {
     "name": "stderr",
     "output_type": "stream",
     "text": [
      "C:\\Users\\vazqu\\anaconda3\\envs\\tesis\\lib\\site-packages\\ipykernel\\ipkernel.py:283: DeprecationWarning: `should_run_async` will not call `transform_cell` automatically in the future. Please pass the result to `transformed_cell` argument and any exception that happen during thetransform in `preprocessing_exc_tuple` in IPython 7.17 and above.\n",
      "  and should_run_async(code)\n"
     ]
    },
    {
     "data": {
      "text/plain": [
       "array([4., 4., 2., 1., 5., 3., 4., 5., 4., 4., 2., 2., 3., 5., 4., 3., 3.,\n",
       "       4., 4., 4., 5., 4., 1., 5., 5., 5., 4., 4., 1., 3., 2., 1., 3., 4.,\n",
       "       5., 3., 3., 3., 3., 5., 3., 4., 1., 5., 3., 2., 2., 4., 1., 1., 3.,\n",
       "       4., 2., 5., 4., 3., 3., 5., 4., 4., 1., 4., 4., 1., 1., 1., 4., 4.,\n",
       "       5., 5., 4., 1., 5., 3., 2., 3., 2., 2., 4., 1., 1., 4., 2., 3., 1.,\n",
       "       3., 2., 3., 2., 4., 3., 3., 1., 1., 2., 3., 2., 1., 4., 3., 2., 4.,\n",
       "       2., 4., 3., 3., 4., 5., 2., 2., 3., 1., 2., 2., 4., 5., 4., 1., 4.,\n",
       "       2., 4., 5., 5., 4., 1., 1., 3., 4., 2., 3., 4., 1., 1., 1., 5., 1.,\n",
       "       2., 4., 5., 4., 3., 2., 4., 2., 1., 4., 5., 5., 2., 2., 5., 1., 5.,\n",
       "       1., 5., 2., 3., 2., 4., 3., 3., 1., 3., 3., 1., 1., 2., 5., 3., 4.,\n",
       "       2., 5., 2., 1., 1., 2., 3., 2., 5., 3., 3., 3., 5., 1., 5., 1., 1.,\n",
       "       2., 2., 3., 4., 3., 5., 1., 4., 2., 4., 2., 4., 3., 2., 5., 1., 1.,\n",
       "       1., 3., 3., 1., 2., 1., 1., 1., 4., 2., 5., 2., 2., 5., 4., 1., 1.,\n",
       "       1., 5., 3., 4., 4., 5., 5., 5., 4., 5., 2., 3., 1., 5., 4., 4., 1.,\n",
       "       4., 3., 2., 2., 4., 5., 1., 3., 2., 3., 5., 5., 3., 2., 4., 4., 4.,\n",
       "       2., 2., 3., 1., 5., 2., 4., 2., 3., 5., 5., 5., 4., 5., 2., 2., 4.,\n",
       "       4., 1., 1., 5., 5., 2., 3., 3., 5., 4., 1., 3.])"
      ]
     },
     "execution_count": 68,
     "metadata": {},
     "output_type": "execute_result"
    }
   ],
   "source": [
    "cp['topico'].values"
   ]
  },
  {
   "cell_type": "code",
   "execution_count": 136,
   "id": "c25481f6",
   "metadata": {},
   "outputs": [
    {
     "name": "stderr",
     "output_type": "stream",
     "text": [
      "C:\\Users\\vazqu\\anaconda3\\envs\\tesis\\lib\\site-packages\\ipykernel\\ipkernel.py:283: DeprecationWarning: `should_run_async` will not call `transform_cell` automatically in the future. Please pass the result to `transformed_cell` argument and any exception that happen during thetransform in `preprocessing_exc_tuple` in IPython 7.17 and above.\n",
      "  and should_run_async(code)\n"
     ]
    },
    {
     "data": {
      "text/plain": [
       "<gensim.corpora.dictionary.Dictionary at 0x192f83ce788>"
      ]
     },
     "execution_count": 136,
     "metadata": {},
     "output_type": "execute_result"
    }
   ],
   "source": [
    "diccionario_LDA"
   ]
  },
  {
   "cell_type": "code",
   "execution_count": 229,
   "id": "82f2c8e5",
   "metadata": {},
   "outputs": [
    {
     "name": "stderr",
     "output_type": "stream",
     "text": [
      "C:\\Users\\vazqu\\anaconda3\\envs\\tesis\\lib\\site-packages\\ipykernel\\ipkernel.py:283: DeprecationWarning: `should_run_async` will not call `transform_cell` automatically in the future. Please pass the result to `transformed_cell` argument and any exception that happen during thetransform in `preprocessing_exc_tuple` in IPython 7.17 and above.\n",
      "  and should_run_async(code)\n"
     ]
    },
    {
     "data": {
      "text/plain": [
       "284"
      ]
     },
     "execution_count": 229,
     "metadata": {},
     "output_type": "execute_result"
    }
   ],
   "source": [
    "len(leman)"
   ]
  },
  {
   "cell_type": "code",
   "execution_count": null,
   "id": "dd549e22",
   "metadata": {},
   "outputs": [],
   "source": []
  }
 ],
 "metadata": {
  "kernelspec": {
   "display_name": "Python 3",
   "language": "python",
   "name": "python3"
  },
  "language_info": {
   "codemirror_mode": {
    "name": "ipython",
    "version": 3
   },
   "file_extension": ".py",
   "mimetype": "text/x-python",
   "name": "python",
   "nbconvert_exporter": "python",
   "pygments_lexer": "ipython3",
   "version": "3.7.9"
  }
 },
 "nbformat": 4,
 "nbformat_minor": 5
}
